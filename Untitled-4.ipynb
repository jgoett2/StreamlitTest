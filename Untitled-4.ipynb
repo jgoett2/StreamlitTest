{
 "cells": [
  {
   "cell_type": "code",
   "execution_count": 2,
   "metadata": {},
   "outputs": [],
   "source": [
    "import pandas as pd"
   ]
  },
  {
   "cell_type": "code",
   "execution_count": 43,
   "metadata": {},
   "outputs": [
    {
     "name": "stdout",
     "output_type": "stream",
     "text": [
      "CAATCCGTCAGCAAACTCTCGTGCTTGTACAACGTCATCTACTCCCTAAATCGTCCTTCTAGTGTAATCGGGAATAACCGAGCCTACCCCGGACTCCGAAAGATCGCTTGCCCCCAGTTGCGCACGATGACTAATAAGTCAGGCCACGGGAGCTAATGTTTATCTTGGGAGTCCTAAACTATTTATCGCCTGCAGATTCACCCGCATGACTGGCGTCTCGAGCCGGAGTTTTATGAGAAGGGCAAGTCCACAAGATGGCACGCCAAATAGGTATCTGAGACCGGTGGGCCCTAAGAGGATGCAGGCGGAAGCGCGAAACTACCAATGCATCCATAATCGTGCGCGTTGCTTGACCCTTAGATTGGGCCATTCAGTCAACTCATAGTGAATCCTGTTGTGACCTGTCCTGTTCTGCGTTTAGTGATCCTTAAACGCAGGAGGTTGGTCTCGGACTTAACGCTGACGTATGTAATGGCATCTCTCCTATATAGAGTTTTGCCAGAGTGTGTTCGGAGTCACGTCCGGTTTCATAGTATAGCCTAAGTGTTAGATTCGCCGGAATATGGCGAAATGGGAGTACAATCGGCACTCAGCAAAATTATAGCTAAGCTGATCCTTTGTTATAACAGGCTCACCCTAAGGCGCGTTGCCAATAGCTTCTGGGAGGACGATAACGAGGTAAAGGCAGCAGTGTCTATGGAGACCGATTGGTAACTAAACGCATGTGAACCGCGCCTGTGAGCATATGTATATCTTCAGTCGCTATGTGCAACGGTTTCAGTTGCCATTTTTTGGAATCCAAATGGCCTTTGTTGTTATAAGCATTATCCCACTGTTTCGTATCTGCTCAGGAGGCGAGTTTATATCTCGCTTATAGTGTATAATACCCCTTTATGGTGGTATATTTCCGCCCCGTCGGCGCATCGTCAGTTGCCCGTGCCTTGGACCATCGGGGTTACA\n",
      "\n"
     ]
    }
   ],
   "source": [
    "with open(\"text.txt\") as f:\n",
    "    my_string = f.read()\n",
    "print(my_string)"
   ]
  },
  {
   "cell_type": "code",
   "execution_count": 47,
   "metadata": {},
   "outputs": [
    {
     "ename": "KeyError",
     "evalue": "'\\n'",
     "output_type": "error",
     "traceback": [
      "\u001b[0;31m---------------------------------------------------------------------------\u001b[0m",
      "\u001b[0;31mKeyError\u001b[0m                                  Traceback (most recent call last)",
      "Cell \u001b[0;32mIn[47], line 8\u001b[0m\n\u001b[1;32m      5\u001b[0m my_dict[\u001b[38;5;124m\"\u001b[39m\u001b[38;5;124mT\u001b[39m\u001b[38;5;124m\"\u001b[39m] \u001b[38;5;241m=\u001b[39m \u001b[38;5;241m0\u001b[39m\n\u001b[1;32m      7\u001b[0m \u001b[38;5;28;01mfor\u001b[39;00m i \u001b[38;5;129;01min\u001b[39;00m \u001b[38;5;28mrange\u001b[39m(\u001b[38;5;241m0\u001b[39m, \u001b[38;5;28mlen\u001b[39m(my_string)):\n\u001b[0;32m----> 8\u001b[0m   my_dict[my_string[i:i\u001b[38;5;241m+\u001b[39m\u001b[38;5;241m1\u001b[39m]] \u001b[38;5;241m+\u001b[39m\u001b[38;5;241m=\u001b[39m \u001b[38;5;241m1\u001b[39m\n",
      "\u001b[0;31mKeyError\u001b[0m: '\\n'"
     ]
    }
   ],
   "source": [
    "my_dict = {}\n",
    "my_dict[\"A\"] = 0\n",
    "my_dict[\"C\"] = 0\n",
    "my_dict[\"G\"] = 0\n",
    "my_dict[\"T\"] = 0\n",
    "\n",
    "for i in range(0, len(my_string)):\n",
    "  my_dict[my_string[i:i+1]] += 1\n"
   ]
  },
  {
   "cell_type": "code",
   "execution_count": 41,
   "metadata": {},
   "outputs": [],
   "source": [
    "my_dict = {}\n",
    "\n",
    "for word in my_string:\n",
    "    word = word.strip()\n",
    "    if word in my_dict:\n",
    "        my_dict[word] += 1\n",
    "    else:\n",
    "        my_dict[word] = 1\n"
   ]
  },
  {
   "cell_type": "code",
   "execution_count": 48,
   "metadata": {},
   "outputs": [
    {
     "data": {
      "text/plain": [
       "{'A': 230, 'C': 230, 'G': 237, 'T': 263}"
      ]
     },
     "execution_count": 48,
     "metadata": {},
     "output_type": "execute_result"
    }
   ],
   "source": [
    "my_dict"
   ]
  },
  {
   "cell_type": "code",
   "execution_count": null,
   "metadata": {},
   "outputs": [
    {
     "name": "stdout",
     "output_type": "stream",
     "text": [
      "When 1\n",
      "I 2\n",
      "find 1\n",
      "myself 1\n",
      "in 4\n",
      "times 1\n",
      "of 11\n",
      "trouble 1\n",
      "Mother 2\n",
      "Mary 2\n",
      "comes 2\n",
      "to 3\n",
      "me 4\n",
      "Speaking 3\n",
      "words 7\n",
      "wisdom 7\n",
      "let 30\n",
      "it 36\n",
      "be 41\n",
      "And 3\n",
      "my 1\n",
      "hour 1\n",
      "darkness 1\n",
      "she 1\n",
      "is 4\n",
      "standing 1\n",
      "right 1\n",
      "front 1\n",
      "Let 6\n",
      "Whisper 4\n",
      "when 2\n",
      "the 4\n",
      "broken 1\n",
      "hearted 1\n",
      "people 1\n",
      "living 1\n",
      "world 1\n",
      "agree 1\n",
      "There 4\n",
      "will 5\n",
      "an 4\n",
      "answer 4\n",
      "For 1\n",
      "though 1\n",
      "they 2\n",
      "may 1\n",
      "parted 1\n",
      "there 2\n",
      "still 2\n",
      "a 2\n",
      "chance 1\n",
      "that 2\n",
      "see 1\n",
      "night 1\n",
      "cloudy 1\n",
      "light 1\n",
      "shines 1\n",
      "on 1\n",
      "Shine 1\n",
      "until 1\n",
      "tomorrow 1\n",
      "wake 1\n",
      "up 1\n",
      "sound 1\n",
      "music 1\n",
      "yeah 2\n"
     ]
    }
   ],
   "source": [
    "for i in my_dict:\n",
    "    i = i.strip()\n",
    "    print(i + \" \" + str(my_dict[i]))"
   ]
  },
  {
   "cell_type": "code",
   "execution_count": 51,
   "metadata": {},
   "outputs": [
    {
     "data": {
      "text/plain": [
       "array([-1, -1, -1])"
      ]
     },
     "execution_count": 51,
     "metadata": {},
     "output_type": "execute_result"
    }
   ],
   "source": [
    "import numpy as np\n",
    "\n",
    "temp = np.array([0,0,0])\n",
    "temp2 = np.array([1,1,1])\n",
    "\n",
    "temp - temp2"
   ]
  },
  {
   "cell_type": "code",
   "execution_count": 52,
   "metadata": {},
   "outputs": [
    {
     "data": {
      "text/plain": [
       "'4'"
      ]
     },
     "execution_count": 52,
     "metadata": {},
     "output_type": "execute_result"
    }
   ],
   "source": [
    "my_string = \"\"\"\n",
    "73167176531330624919225119674426574742355349194934\n",
    "96983520312774506326239578318016984801869478851843\n",
    "85861560789112949495459501737958331952853208805511\n",
    "12540698747158523863050715693290963295227443043557\n",
    "66896648950445244523161731856403098711121722383113\n",
    "62229893423380308135336276614282806444486645238749\n",
    "30358907296290491560440772390713810515859307960866\n",
    "70172427121883998797908792274921901699720888093776\n",
    "65727333001053367881220235421809751254540594752243\n",
    "52584907711670556013604839586446706324415722155397\n",
    "53697817977846174064955149290862569321978468622482\n",
    "83972241375657056057490261407972968652414535100474\n",
    "82166370484403199890008895243450658541227588666881\n",
    "16427171479924442928230863465674813919123162824586\n",
    "17866458359124566529476545682848912883142607690042\n",
    "24219022671055626321111109370544217506941658960408\n",
    "07198403850962455444362981230987879927244284909188\n",
    "84580156166097919133875499200524063689912560717606\n",
    "05886116467109405077541002256983155200055935729725\n",
    "71636269561882670428252483600823257530420752963450\n",
    "\"\"\"\n",
    "my_string[100]"
   ]
  },
  {
   "cell_type": "code",
   "execution_count": 4,
   "metadata": {},
   "outputs": [],
   "source": [
    "import numpy as np\n",
    "\n",
    "key = {\n",
    "    \"0\": np.array([0,0,0,0]),\n",
    "    \"1\": np.array([0,0,0,0]),\n",
    "    \"2\": np.array([1,0,0,0]),\n",
    "    \"3\": np.array([0,1,0,0]),\n",
    "    \"4\": np.array([2,0,0,0]),\n",
    "    \"5\": np.array([0,0,1,0]),\n",
    "    \"6\": np.array([1,1,0,0]),\n",
    "    \"7\": np.array([0,0,0,1]),\n",
    "    \"8\": np.array([3,0,0,0]),\n",
    "    \"9\": np.array([0,2,0,0])\n",
    "}"
   ]
  },
  {
   "cell_type": "code",
   "execution_count": 22,
   "metadata": {},
   "outputs": [],
   "source": [
    "basis = [2,3,5,7]\n",
    "\n",
    "my_int = \"59\"\n",
    "\n",
    "my_vector = np.array([0,0,0,0])\n",
    "\n",
    "for i in range(0,len(my_int)):\n",
    "    my_vector += key[my_int[i:i+1]]\n",
    "\n",
    "total = 1\n",
    "for i in range(0,4):\n",
    "    total *= basis[i] ** my_vector[i]\n"
   ]
  },
  {
   "cell_type": "code",
   "execution_count": 23,
   "metadata": {},
   "outputs": [
    {
     "data": {
      "text/plain": [
       "45"
      ]
     },
     "execution_count": 23,
     "metadata": {},
     "output_type": "execute_result"
    }
   ],
   "source": [
    "total"
   ]
  },
  {
   "cell_type": "code",
   "execution_count": 133,
   "metadata": {},
   "outputs": [
    {
     "data": {
      "text/plain": [
       "age       40\n",
       "height    40\n",
       "dtype: int64"
      ]
     },
     "execution_count": 133,
     "metadata": {},
     "output_type": "execute_result"
    }
   ],
   "source": [
    "import pandas as pd\n",
    "df = pd.DataFrame([{\"name\":\"Jeff\", \"age\":40, \"height\":40},\n",
    "                   {\"name\":\"Dave\", \"age\":41, \"height\":40}])\n",
    "\n",
    "key = pd.Series({\"age\":40,\"height\":40})\n",
    "key"
   ]
  },
  {
   "cell_type": "code",
   "execution_count": 134,
   "metadata": {},
   "outputs": [
    {
     "data": {
      "text/html": [
       "<div>\n",
       "<style scoped>\n",
       "    .dataframe tbody tr th:only-of-type {\n",
       "        vertical-align: middle;\n",
       "    }\n",
       "\n",
       "    .dataframe tbody tr th {\n",
       "        vertical-align: top;\n",
       "    }\n",
       "\n",
       "    .dataframe thead th {\n",
       "        text-align: right;\n",
       "    }\n",
       "</style>\n",
       "<table border=\"1\" class=\"dataframe\">\n",
       "  <thead>\n",
       "    <tr style=\"text-align: right;\">\n",
       "      <th></th>\n",
       "      <th>age</th>\n",
       "      <th>height</th>\n",
       "      <th>name</th>\n",
       "    </tr>\n",
       "  </thead>\n",
       "  <tbody>\n",
       "    <tr>\n",
       "      <th>0</th>\n",
       "      <td>True</td>\n",
       "      <td>True</td>\n",
       "      <td>False</td>\n",
       "    </tr>\n",
       "    <tr>\n",
       "      <th>1</th>\n",
       "      <td>False</td>\n",
       "      <td>True</td>\n",
       "      <td>False</td>\n",
       "    </tr>\n",
       "  </tbody>\n",
       "</table>\n",
       "</div>"
      ],
      "text/plain": [
       "     age  height   name\n",
       "0   True    True  False\n",
       "1  False    True  False"
      ]
     },
     "execution_count": 134,
     "metadata": {},
     "output_type": "execute_result"
    }
   ],
   "source": [
    "df.eq(key)"
   ]
  },
  {
   "cell_type": "code",
   "execution_count": null,
   "metadata": {},
   "outputs": [
    {
     "data": {
      "text/html": [
       "<div>\n",
       "<style scoped>\n",
       "    .dataframe tbody tr th:only-of-type {\n",
       "        vertical-align: middle;\n",
       "    }\n",
       "\n",
       "    .dataframe tbody tr th {\n",
       "        vertical-align: top;\n",
       "    }\n",
       "\n",
       "    .dataframe thead th {\n",
       "        text-align: right;\n",
       "    }\n",
       "</style>\n",
       "<table border=\"1\" class=\"dataframe\">\n",
       "  <thead>\n",
       "    <tr style=\"text-align: right;\">\n",
       "      <th></th>\n",
       "      <th>name</th>\n",
       "      <th>age</th>\n",
       "      <th>height</th>\n",
       "      <th>Wins</th>\n",
       "    </tr>\n",
       "  </thead>\n",
       "  <tbody>\n",
       "    <tr>\n",
       "      <th>0</th>\n",
       "      <td>Jeff</td>\n",
       "      <td>40</td>\n",
       "      <td>40</td>\n",
       "      <td>2</td>\n",
       "    </tr>\n",
       "    <tr>\n",
       "      <th>1</th>\n",
       "      <td>Dave</td>\n",
       "      <td>41</td>\n",
       "      <td>40</td>\n",
       "      <td>1</td>\n",
       "    </tr>\n",
       "  </tbody>\n",
       "</table>\n",
       "</div>"
      ],
      "text/plain": [
       "   name  age  height  Wins\n",
       "0  Jeff   40      40     2\n",
       "1  Dave   41      40     1"
      ]
     },
     "execution_count": 131,
     "metadata": {},
     "output_type": "execute_result"
    }
   ],
   "source": [
    "df[\"Wins\"] = np.sum(df.iloc[:,1:].eq(key[1:]), axis=1)\n",
    "df"
   ]
  },
  {
   "cell_type": "code",
   "execution_count": 103,
   "metadata": {},
   "outputs": [
    {
     "ename": "AttributeError",
     "evalue": "'numpy.ndarray' object has no attribute 'eq'",
     "output_type": "error",
     "traceback": [
      "\u001b[0;31m---------------------------------------------------------------------------\u001b[0m",
      "\u001b[0;31mAttributeError\u001b[0m                            Traceback (most recent call last)",
      "Cell \u001b[0;32mIn[103], line 1\u001b[0m\n\u001b[0;32m----> 1\u001b[0m [x\u001b[38;5;241m.\u001b[39meq(key) \u001b[38;5;28;01mfor\u001b[39;00m x \u001b[38;5;129;01min\u001b[39;00m df\u001b[38;5;241m.\u001b[39mvalues]\n",
      "\u001b[0;31mAttributeError\u001b[0m: 'numpy.ndarray' object has no attribute 'eq'"
     ]
    }
   ],
   "source": [
    "[x.eq(key) for x in df.values]"
   ]
  },
  {
   "cell_type": "code",
   "execution_count": 46,
   "metadata": {},
   "outputs": [],
   "source": [
    "df[\"sum\"] = np.sum(df.iloc[:,1:].eq(key), axis=1)"
   ]
  },
  {
   "cell_type": "code",
   "execution_count": 47,
   "metadata": {},
   "outputs": [
    {
     "data": {
      "text/html": [
       "<div>\n",
       "<style scoped>\n",
       "    .dataframe tbody tr th:only-of-type {\n",
       "        vertical-align: middle;\n",
       "    }\n",
       "\n",
       "    .dataframe tbody tr th {\n",
       "        vertical-align: top;\n",
       "    }\n",
       "\n",
       "    .dataframe thead th {\n",
       "        text-align: right;\n",
       "    }\n",
       "</style>\n",
       "<table border=\"1\" class=\"dataframe\">\n",
       "  <thead>\n",
       "    <tr style=\"text-align: right;\">\n",
       "      <th></th>\n",
       "      <th>name</th>\n",
       "      <th>age</th>\n",
       "      <th>height</th>\n",
       "      <th>sum</th>\n",
       "    </tr>\n",
       "  </thead>\n",
       "  <tbody>\n",
       "    <tr>\n",
       "      <th>0</th>\n",
       "      <td>Jeff</td>\n",
       "      <td>40</td>\n",
       "      <td>78</td>\n",
       "      <td>1</td>\n",
       "    </tr>\n",
       "    <tr>\n",
       "      <th>1</th>\n",
       "      <td>Stephen</td>\n",
       "      <td>41</td>\n",
       "      <td>40</td>\n",
       "      <td>0</td>\n",
       "    </tr>\n",
       "  </tbody>\n",
       "</table>\n",
       "</div>"
      ],
      "text/plain": [
       "      name  age  height  sum\n",
       "0     Jeff   40      78    1\n",
       "1  Stephen   41      40    0"
      ]
     },
     "execution_count": 47,
     "metadata": {},
     "output_type": "execute_result"
    }
   ],
   "source": [
    "df"
   ]
  },
  {
   "cell_type": "code",
   "execution_count": 137,
   "metadata": {},
   "outputs": [
    {
     "data": {
      "text/html": [
       "<div>\n",
       "<style scoped>\n",
       "    .dataframe tbody tr th:only-of-type {\n",
       "        vertical-align: middle;\n",
       "    }\n",
       "\n",
       "    .dataframe tbody tr th {\n",
       "        vertical-align: top;\n",
       "    }\n",
       "\n",
       "    .dataframe thead th {\n",
       "        text-align: right;\n",
       "    }\n",
       "</style>\n",
       "<table border=\"1\" class=\"dataframe\">\n",
       "  <thead>\n",
       "    <tr style=\"text-align: right;\">\n",
       "      <th></th>\n",
       "      <th>Name</th>\n",
       "      <th>CFP_First_Round1</th>\n",
       "      <th>CFP_First_Round2</th>\n",
       "      <th>CFP_First_Round3</th>\n",
       "      <th>CFP_First_Round4</th>\n",
       "      <th>Pop_Tarts_Bowl</th>\n",
       "      <th>Arizona_Bowl</th>\n",
       "      <th>Military_Bowl</th>\n",
       "      <th>Alamo_Bowl</th>\n",
       "      <th>Pinstripe_Bowl</th>\n",
       "      <th>Music_City_Bowl</th>\n",
       "      <th>Reliaquest_Bowl</th>\n",
       "      <th>Sun_Bowl</th>\n",
       "      <th>Citrus_Bowl</th>\n",
       "      <th>Texas_Bowl</th>\n",
       "      <th>Gator_Bowl</th>\n",
       "      <th>First_Responder_Bowl</th>\n",
       "      <th>Mayo_Bowl</th>\n",
       "      <th>Bahamas_Bowl</th>\n",
       "    </tr>\n",
       "  </thead>\n",
       "  <tbody>\n",
       "    <tr>\n",
       "      <th>0</th>\n",
       "      <td>Jeff</td>\n",
       "      <td>2. Notre Dame</td>\n",
       "      <td>4. Ohio State</td>\n",
       "      <td>6. Penn State</td>\n",
       "      <td>8. Texas</td>\n",
       "      <td>9. Miami</td>\n",
       "      <td>11. Miami (OH)</td>\n",
       "      <td>13. N.C. State</td>\n",
       "      <td>15. Colorado</td>\n",
       "      <td>17. Boston College</td>\n",
       "      <td>20. Iowa</td>\n",
       "      <td>22. Alabama</td>\n",
       "      <td>23. Louisville</td>\n",
       "      <td>26. Illinois</td>\n",
       "      <td>28. LSU</td>\n",
       "      <td>29. Duke</td>\n",
       "      <td>31. North Texas</td>\n",
       "      <td>34. Virginia Tech</td>\n",
       "      <td>36. Buffalo</td>\n",
       "    </tr>\n",
       "    <tr>\n",
       "      <th>1</th>\n",
       "      <td>Test</td>\n",
       "      <td>1. Indiana</td>\n",
       "      <td>3. Tennessee</td>\n",
       "      <td>5. SMU</td>\n",
       "      <td>7. Clemson</td>\n",
       "      <td>10. Iowa State</td>\n",
       "      <td>12. Colorado State</td>\n",
       "      <td>14. East Carolina</td>\n",
       "      <td>16. BYU</td>\n",
       "      <td>18. Nebraska</td>\n",
       "      <td>19. Missouri</td>\n",
       "      <td>21. Michigan</td>\n",
       "      <td>24. Washington</td>\n",
       "      <td>25. South Carolina</td>\n",
       "      <td>27. Baylor</td>\n",
       "      <td>30. Ole Miss</td>\n",
       "      <td>32. Texas State</td>\n",
       "      <td>33. Minnesota</td>\n",
       "      <td>35. Liberty</td>\n",
       "    </tr>\n",
       "    <tr>\n",
       "      <th>2</th>\n",
       "      <td>Test 2</td>\n",
       "      <td>1. Indiana</td>\n",
       "      <td>4. Ohio State</td>\n",
       "      <td>6. Penn State</td>\n",
       "      <td>8. Texas</td>\n",
       "      <td>10. Iowa State</td>\n",
       "      <td>11. Miami (OH)</td>\n",
       "      <td>13. N.C. State</td>\n",
       "      <td>15. Colorado</td>\n",
       "      <td>17. Boston College</td>\n",
       "      <td>19. Missouri</td>\n",
       "      <td>21. Michigan</td>\n",
       "      <td>23. Louisville</td>\n",
       "      <td>26. Illinois</td>\n",
       "      <td>28. LSU</td>\n",
       "      <td>29. Duke</td>\n",
       "      <td>31. North Texas</td>\n",
       "      <td>33. Minnesota</td>\n",
       "      <td>35. Liberty</td>\n",
       "    </tr>\n",
       "  </tbody>\n",
       "</table>\n",
       "</div>"
      ],
      "text/plain": [
       "     Name CFP_First_Round1 CFP_First_Round2 CFP_First_Round3 CFP_First_Round4  \\\n",
       "0    Jeff    2. Notre Dame    4. Ohio State    6. Penn State         8. Texas   \n",
       "1    Test       1. Indiana     3. Tennessee           5. SMU       7. Clemson   \n",
       "2  Test 2       1. Indiana    4. Ohio State    6. Penn State         8. Texas   \n",
       "\n",
       "   Pop_Tarts_Bowl        Arizona_Bowl      Military_Bowl     Alamo_Bowl  \\\n",
       "0        9. Miami      11. Miami (OH)     13. N.C. State  15. Colorado    \n",
       "1  10. Iowa State  12. Colorado State  14. East Carolina        16. BYU   \n",
       "2  10. Iowa State      11. Miami (OH)     13. N.C. State  15. Colorado    \n",
       "\n",
       "       Pinstripe_Bowl Music_City_Bowl Reliaquest_Bowl        Sun_Bowl  \\\n",
       "0  17. Boston College        20. Iowa     22. Alabama  23. Louisville   \n",
       "1        18. Nebraska    19. Missouri    21. Michigan  24. Washington   \n",
       "2  17. Boston College    19. Missouri    21. Michigan  23. Louisville   \n",
       "\n",
       "          Citrus_Bowl  Texas_Bowl    Gator_Bowl First_Responder_Bowl  \\\n",
       "0        26. Illinois     28. LSU      29. Duke      31. North Texas   \n",
       "1  25. South Carolina  27. Baylor  30. Ole Miss      32. Texas State   \n",
       "2        26. Illinois     28. LSU      29. Duke      31. North Texas   \n",
       "\n",
       "           Mayo_Bowl Bahamas_Bowl  \n",
       "0  34. Virginia Tech  36. Buffalo  \n",
       "1      33. Minnesota  35. Liberty  \n",
       "2      33. Minnesota  35. Liberty  "
      ]
     },
     "execution_count": 137,
     "metadata": {},
     "output_type": "execute_result"
    }
   ],
   "source": [
    "df = pd.read_csv(\"data.csv\")\n",
    "df"
   ]
  },
  {
   "cell_type": "code",
   "execution_count": 138,
   "metadata": {},
   "outputs": [],
   "source": [
    "key = pd.Series({\"CFP_First_Round1\":\"2. Notre Dame\"})"
   ]
  },
  {
   "cell_type": "code",
   "execution_count": 139,
   "metadata": {},
   "outputs": [
    {
     "data": {
      "text/html": [
       "<div>\n",
       "<style scoped>\n",
       "    .dataframe tbody tr th:only-of-type {\n",
       "        vertical-align: middle;\n",
       "    }\n",
       "\n",
       "    .dataframe tbody tr th {\n",
       "        vertical-align: top;\n",
       "    }\n",
       "\n",
       "    .dataframe thead th {\n",
       "        text-align: right;\n",
       "    }\n",
       "</style>\n",
       "<table border=\"1\" class=\"dataframe\">\n",
       "  <thead>\n",
       "    <tr style=\"text-align: right;\">\n",
       "      <th></th>\n",
       "      <th>Alamo_Bowl</th>\n",
       "      <th>Arizona_Bowl</th>\n",
       "      <th>Bahamas_Bowl</th>\n",
       "      <th>CFP_First_Round1</th>\n",
       "      <th>CFP_First_Round2</th>\n",
       "      <th>CFP_First_Round3</th>\n",
       "      <th>CFP_First_Round4</th>\n",
       "      <th>Citrus_Bowl</th>\n",
       "      <th>First_Responder_Bowl</th>\n",
       "      <th>Gator_Bowl</th>\n",
       "      <th>Mayo_Bowl</th>\n",
       "      <th>Military_Bowl</th>\n",
       "      <th>Music_City_Bowl</th>\n",
       "      <th>Name</th>\n",
       "      <th>Pinstripe_Bowl</th>\n",
       "      <th>Pop_Tarts_Bowl</th>\n",
       "      <th>Reliaquest_Bowl</th>\n",
       "      <th>Sun_Bowl</th>\n",
       "      <th>Texas_Bowl</th>\n",
       "    </tr>\n",
       "  </thead>\n",
       "  <tbody>\n",
       "    <tr>\n",
       "      <th>0</th>\n",
       "      <td>False</td>\n",
       "      <td>False</td>\n",
       "      <td>False</td>\n",
       "      <td>True</td>\n",
       "      <td>False</td>\n",
       "      <td>False</td>\n",
       "      <td>False</td>\n",
       "      <td>False</td>\n",
       "      <td>False</td>\n",
       "      <td>False</td>\n",
       "      <td>False</td>\n",
       "      <td>False</td>\n",
       "      <td>False</td>\n",
       "      <td>False</td>\n",
       "      <td>False</td>\n",
       "      <td>False</td>\n",
       "      <td>False</td>\n",
       "      <td>False</td>\n",
       "      <td>False</td>\n",
       "    </tr>\n",
       "    <tr>\n",
       "      <th>1</th>\n",
       "      <td>False</td>\n",
       "      <td>False</td>\n",
       "      <td>False</td>\n",
       "      <td>False</td>\n",
       "      <td>False</td>\n",
       "      <td>False</td>\n",
       "      <td>False</td>\n",
       "      <td>False</td>\n",
       "      <td>False</td>\n",
       "      <td>False</td>\n",
       "      <td>False</td>\n",
       "      <td>False</td>\n",
       "      <td>False</td>\n",
       "      <td>False</td>\n",
       "      <td>False</td>\n",
       "      <td>False</td>\n",
       "      <td>False</td>\n",
       "      <td>False</td>\n",
       "      <td>False</td>\n",
       "    </tr>\n",
       "    <tr>\n",
       "      <th>2</th>\n",
       "      <td>False</td>\n",
       "      <td>False</td>\n",
       "      <td>False</td>\n",
       "      <td>False</td>\n",
       "      <td>False</td>\n",
       "      <td>False</td>\n",
       "      <td>False</td>\n",
       "      <td>False</td>\n",
       "      <td>False</td>\n",
       "      <td>False</td>\n",
       "      <td>False</td>\n",
       "      <td>False</td>\n",
       "      <td>False</td>\n",
       "      <td>False</td>\n",
       "      <td>False</td>\n",
       "      <td>False</td>\n",
       "      <td>False</td>\n",
       "      <td>False</td>\n",
       "      <td>False</td>\n",
       "    </tr>\n",
       "  </tbody>\n",
       "</table>\n",
       "</div>"
      ],
      "text/plain": [
       "   Alamo_Bowl  Arizona_Bowl  Bahamas_Bowl  CFP_First_Round1  CFP_First_Round2  \\\n",
       "0       False         False         False              True             False   \n",
       "1       False         False         False             False             False   \n",
       "2       False         False         False             False             False   \n",
       "\n",
       "   CFP_First_Round3  CFP_First_Round4  Citrus_Bowl  First_Responder_Bowl  \\\n",
       "0             False             False        False                 False   \n",
       "1             False             False        False                 False   \n",
       "2             False             False        False                 False   \n",
       "\n",
       "   Gator_Bowl  Mayo_Bowl  Military_Bowl  Music_City_Bowl   Name  \\\n",
       "0       False      False          False            False  False   \n",
       "1       False      False          False            False  False   \n",
       "2       False      False          False            False  False   \n",
       "\n",
       "   Pinstripe_Bowl  Pop_Tarts_Bowl  Reliaquest_Bowl  Sun_Bowl  Texas_Bowl  \n",
       "0           False           False            False     False       False  \n",
       "1           False           False            False     False       False  \n",
       "2           False           False            False     False       False  "
      ]
     },
     "execution_count": 139,
     "metadata": {},
     "output_type": "execute_result"
    }
   ],
   "source": [
    "df.eq(key)"
   ]
  },
  {
   "cell_type": "code",
   "execution_count": 143,
   "metadata": {},
   "outputs": [
    {
     "name": "stderr",
     "output_type": "stream",
     "text": [
      "2024-12-10 07:09:21.593 Thread 'MainThread': missing ScriptRunContext! This warning can be ignored when running in bare mode.\n",
      "2024-12-10 07:09:21.594 Thread 'MainThread': missing ScriptRunContext! This warning can be ignored when running in bare mode.\n",
      "2024-12-10 07:09:21.604 Thread 'MainThread': missing ScriptRunContext! This warning can be ignored when running in bare mode.\n",
      "2024-12-10 07:09:21.605 Thread 'MainThread': missing ScriptRunContext! This warning can be ignored when running in bare mode.\n"
     ]
    },
    {
     "data": {
      "text/plain": [
       "DeltaGenerator()"
      ]
     },
     "execution_count": 143,
     "metadata": {},
     "output_type": "execute_result"
    }
   ],
   "source": [
    "import streamlit as st\n",
    "import pandas as pd\n",
    "import numpy as np\n",
    "\n",
    "st.title(\"CFP\")\n",
    "\n",
    "df = pd.read_csv(\"data.csv\")\n",
    "\n",
    "key = pd.Series({\"CFP_First_Round1\": \"2. Notre Dame\"})\n",
    "\n",
    "df[\"Wins\"] = np.sum(df.eq(key), axis=1)\n",
    "df[\"Losses\"] = len(key) - df[\"Wins\"] \n",
    "df = df.sort_values(\"Wins\", ascending=False)\n",
    "\n",
    "st.dataframe(df[[\"Name\", \"Wins\", \"Losses\"]])"
   ]
  },
  {
   "cell_type": "code",
   "execution_count": 4,
   "metadata": {},
   "outputs": [
    {
     "data": {
      "text/plain": [
       "Game1    Notre Dame\n",
       "dtype: object"
      ]
     },
     "execution_count": 4,
     "metadata": {},
     "output_type": "execute_result"
    }
   ],
   "source": [
    "import pandas as pd\n",
    "key = pd.Series({\"Game1\":\"Notre Dame\"})\n",
    "key\n"
   ]
  },
  {
   "cell_type": "code",
   "execution_count": 7,
   "metadata": {},
   "outputs": [
    {
     "data": {
      "text/plain": [
       "Game1    Notre Dame\n",
       "Game2       Indiana\n",
       "dtype: object"
      ]
     },
     "execution_count": 7,
     "metadata": {},
     "output_type": "execute_result"
    }
   ],
   "source": [
    "key[\"Game2\"] = \"Indiana\"\n",
    "key"
   ]
  },
  {
   "cell_type": "code",
   "execution_count": 2,
   "metadata": {},
   "outputs": [
    {
     "data": {
      "text/plain": [
       "1"
      ]
     },
     "execution_count": 2,
     "metadata": {},
     "output_type": "execute_result"
    }
   ],
   "source": [
    "import pandas as pd\n",
    "import numpy as np\n",
    "\n",
    "test = pd.Series({\"Jeff\":\"Open\"})\n",
    "np.sum([test == \"Open\"])"
   ]
  },
  {
   "cell_type": "code",
   "execution_count": 102,
   "metadata": {},
   "outputs": [
    {
     "data": {
      "text/html": [
       "<div>\n",
       "<style scoped>\n",
       "    .dataframe tbody tr th:only-of-type {\n",
       "        vertical-align: middle;\n",
       "    }\n",
       "\n",
       "    .dataframe tbody tr th {\n",
       "        vertical-align: top;\n",
       "    }\n",
       "\n",
       "    .dataframe thead th {\n",
       "        text-align: right;\n",
       "    }\n",
       "</style>\n",
       "<table border=\"1\" class=\"dataframe\">\n",
       "  <thead>\n",
       "    <tr style=\"text-align: right;\">\n",
       "      <th></th>\n",
       "      <th>Game</th>\n",
       "      <th>Team1</th>\n",
       "      <th>Team1_Victory</th>\n",
       "      <th>Team2</th>\n",
       "      <th>Team2_Victory</th>\n",
       "    </tr>\n",
       "  </thead>\n",
       "  <tbody>\n",
       "    <tr>\n",
       "      <th>0</th>\n",
       "      <td>CFP_First_Round1</td>\n",
       "      <td>1. Indiana</td>\n",
       "      <td>False</td>\n",
       "      <td>2. Notre Dame</td>\n",
       "      <td>False</td>\n",
       "    </tr>\n",
       "    <tr>\n",
       "      <th>1</th>\n",
       "      <td>CFP_First_Round2</td>\n",
       "      <td>3. Tennessee</td>\n",
       "      <td>False</td>\n",
       "      <td>4. Ohio State</td>\n",
       "      <td>False</td>\n",
       "    </tr>\n",
       "    <tr>\n",
       "      <th>2</th>\n",
       "      <td>CFP_First_Round3</td>\n",
       "      <td>5. SMU</td>\n",
       "      <td>False</td>\n",
       "      <td>6. Penn State</td>\n",
       "      <td>False</td>\n",
       "    </tr>\n",
       "    <tr>\n",
       "      <th>3</th>\n",
       "      <td>CFP_First_Round4</td>\n",
       "      <td>7. Clemson</td>\n",
       "      <td>False</td>\n",
       "      <td>8. Texas</td>\n",
       "      <td>False</td>\n",
       "    </tr>\n",
       "    <tr>\n",
       "      <th>4</th>\n",
       "      <td>Pop_Tarts_Bowl</td>\n",
       "      <td>9. Miami</td>\n",
       "      <td>False</td>\n",
       "      <td>10. Iowa State</td>\n",
       "      <td>False</td>\n",
       "    </tr>\n",
       "    <tr>\n",
       "      <th>5</th>\n",
       "      <td>Arizona_Bowl</td>\n",
       "      <td>11. Miami (OH)</td>\n",
       "      <td>False</td>\n",
       "      <td>12. Colorado State</td>\n",
       "      <td>False</td>\n",
       "    </tr>\n",
       "    <tr>\n",
       "      <th>6</th>\n",
       "      <td>Military_Bowl</td>\n",
       "      <td>13. N.C. State</td>\n",
       "      <td>False</td>\n",
       "      <td>14. East Carolina</td>\n",
       "      <td>False</td>\n",
       "    </tr>\n",
       "    <tr>\n",
       "      <th>7</th>\n",
       "      <td>Alamo_Bowl</td>\n",
       "      <td>15. Colorado</td>\n",
       "      <td>False</td>\n",
       "      <td>16. BYU</td>\n",
       "      <td>False</td>\n",
       "    </tr>\n",
       "    <tr>\n",
       "      <th>8</th>\n",
       "      <td>Pinstripe_Bowl</td>\n",
       "      <td>17. Boston College</td>\n",
       "      <td>False</td>\n",
       "      <td>18. Nebraska</td>\n",
       "      <td>False</td>\n",
       "    </tr>\n",
       "    <tr>\n",
       "      <th>9</th>\n",
       "      <td>Music_City_Bowl</td>\n",
       "      <td>19. Missouri</td>\n",
       "      <td>False</td>\n",
       "      <td>20. Iowa</td>\n",
       "      <td>False</td>\n",
       "    </tr>\n",
       "    <tr>\n",
       "      <th>10</th>\n",
       "      <td>Reliaquest_Bowl</td>\n",
       "      <td>21. Michigan</td>\n",
       "      <td>False</td>\n",
       "      <td>22. Alabama</td>\n",
       "      <td>False</td>\n",
       "    </tr>\n",
       "    <tr>\n",
       "      <th>11</th>\n",
       "      <td>Sun_Bowl</td>\n",
       "      <td>23. Louisville</td>\n",
       "      <td>False</td>\n",
       "      <td>24. Washington</td>\n",
       "      <td>False</td>\n",
       "    </tr>\n",
       "    <tr>\n",
       "      <th>12</th>\n",
       "      <td>Citrus_Bowl</td>\n",
       "      <td>25. South Carolina</td>\n",
       "      <td>False</td>\n",
       "      <td>26. Illinois</td>\n",
       "      <td>False</td>\n",
       "    </tr>\n",
       "    <tr>\n",
       "      <th>13</th>\n",
       "      <td>Texas_Bowl</td>\n",
       "      <td>27. Baylor</td>\n",
       "      <td>False</td>\n",
       "      <td>28. LSU</td>\n",
       "      <td>False</td>\n",
       "    </tr>\n",
       "    <tr>\n",
       "      <th>14</th>\n",
       "      <td>Gator_Bowl</td>\n",
       "      <td>29. Duke</td>\n",
       "      <td>False</td>\n",
       "      <td>30. Ole Miss</td>\n",
       "      <td>False</td>\n",
       "    </tr>\n",
       "    <tr>\n",
       "      <th>15</th>\n",
       "      <td>First_Responder_Bowl</td>\n",
       "      <td>31. North Texas</td>\n",
       "      <td>False</td>\n",
       "      <td>32. Texas State</td>\n",
       "      <td>False</td>\n",
       "    </tr>\n",
       "    <tr>\n",
       "      <th>16</th>\n",
       "      <td>Mayo_Bowl</td>\n",
       "      <td>33. Minnesota</td>\n",
       "      <td>False</td>\n",
       "      <td>34. Virginia Tech</td>\n",
       "      <td>False</td>\n",
       "    </tr>\n",
       "    <tr>\n",
       "      <th>17</th>\n",
       "      <td>Bahamas_Bowl</td>\n",
       "      <td>35. Liberty</td>\n",
       "      <td>False</td>\n",
       "      <td>36. Buffalo</td>\n",
       "      <td>False</td>\n",
       "    </tr>\n",
       "  </tbody>\n",
       "</table>\n",
       "</div>"
      ],
      "text/plain": [
       "                    Game               Team1  Team1_Victory  \\\n",
       "0       CFP_First_Round1          1. Indiana          False   \n",
       "1       CFP_First_Round2        3. Tennessee          False   \n",
       "2       CFP_First_Round3              5. SMU          False   \n",
       "3       CFP_First_Round4          7. Clemson          False   \n",
       "4         Pop_Tarts_Bowl            9. Miami          False   \n",
       "5           Arizona_Bowl      11. Miami (OH)          False   \n",
       "6          Military_Bowl      13. N.C. State          False   \n",
       "7             Alamo_Bowl       15. Colorado           False   \n",
       "8         Pinstripe_Bowl  17. Boston College          False   \n",
       "9        Music_City_Bowl        19. Missouri          False   \n",
       "10       Reliaquest_Bowl        21. Michigan          False   \n",
       "11              Sun_Bowl      23. Louisville          False   \n",
       "12           Citrus_Bowl  25. South Carolina          False   \n",
       "13            Texas_Bowl          27. Baylor          False   \n",
       "14            Gator_Bowl            29. Duke          False   \n",
       "15  First_Responder_Bowl     31. North Texas          False   \n",
       "16             Mayo_Bowl       33. Minnesota          False   \n",
       "17          Bahamas_Bowl         35. Liberty          False   \n",
       "\n",
       "                 Team2  Team2_Victory  \n",
       "0        2. Notre Dame          False  \n",
       "1        4. Ohio State          False  \n",
       "2        6. Penn State          False  \n",
       "3             8. Texas          False  \n",
       "4       10. Iowa State          False  \n",
       "5   12. Colorado State          False  \n",
       "6    14. East Carolina          False  \n",
       "7              16. BYU          False  \n",
       "8         18. Nebraska          False  \n",
       "9             20. Iowa          False  \n",
       "10         22. Alabama          False  \n",
       "11      24. Washington          False  \n",
       "12        26. Illinois          False  \n",
       "13             28. LSU          False  \n",
       "14        30. Ole Miss          False  \n",
       "15     32. Texas State          False  \n",
       "16   34. Virginia Tech          False  \n",
       "17         36. Buffalo          False  "
      ]
     },
     "execution_count": 102,
     "metadata": {},
     "output_type": "execute_result"
    }
   ],
   "source": [
    "games = pd.read_csv(\"key.csv\")\n",
    "temp = games.set_index(games[\"Game\"])\n",
    "key = pd.concat([temp.loc[temp[\"Team1_Victory\"],\"Team1\"], temp.loc[temp[\"Team2_Victory\"], \"Team2\"]]) \n",
    "games"
   ]
  },
  {
   "cell_type": "code",
   "execution_count": 103,
   "metadata": {},
   "outputs": [
    {
     "name": "stdout",
     "output_type": "stream",
     "text": [
      "['CFP_First_Round1' '1. Indiana' False '2. Notre Dame' False]\n",
      "['CFP_First_Round2' '3. Tennessee' False '4. Ohio State' False]\n",
      "['CFP_First_Round3' '5. SMU' False '6. Penn State' False]\n",
      "['CFP_First_Round4' '7. Clemson' False '8. Texas' False]\n",
      "['Pop_Tarts_Bowl' '9. Miami' False '10. Iowa State' False]\n",
      "['Arizona_Bowl' '11. Miami (OH)' False '12. Colorado State' False]\n",
      "['Military_Bowl' '13. N.C. State' False '14. East Carolina' False]\n",
      "['Alamo_Bowl' '15. Colorado ' False '16. BYU' False]\n",
      "['Pinstripe_Bowl' '17. Boston College' False '18. Nebraska' False]\n",
      "['Music_City_Bowl' '19. Missouri' False '20. Iowa' False]\n",
      "['Reliaquest_Bowl' '21. Michigan' False '22. Alabama' False]\n",
      "['Sun_Bowl' '23. Louisville' False '24. Washington' False]\n",
      "['Citrus_Bowl' '25. South Carolina' False '26. Illinois' False]\n",
      "['Texas_Bowl' '27. Baylor' False '28. LSU' False]\n",
      "['Gator_Bowl' '29. Duke' False '30. Ole Miss' False]\n",
      "['First_Responder_Bowl' '31. North Texas' False '32. Texas State' False]\n",
      "['Mayo_Bowl' '33. Minnesota' False '34. Virginia Tech' False]\n",
      "['Bahamas_Bowl' '35. Liberty' False '36. Buffalo' False]\n"
     ]
    }
   ],
   "source": [
    "for open_game in games[(games.Team1_Victory == False) & (games.Team2_Victory == False)].values:\n",
    "    print(open_game)"
   ]
  },
  {
   "cell_type": "code",
   "execution_count": 25,
   "metadata": {},
   "outputs": [
    {
     "data": {
      "text/plain": [
       "0    1\n",
       "1    1\n",
       "2    2\n",
       "dtype: int64"
      ]
     },
     "execution_count": 25,
     "metadata": {},
     "output_type": "execute_result"
    }
   ],
   "source": [
    "df = pd.read_csv(\"data.csv\")\n",
    "np.sum(df.eq(key, axis=1), axis=1)"
   ]
  },
  {
   "cell_type": "code",
   "execution_count": null,
   "metadata": {},
   "outputs": [],
   "source": [
    "import streamlit as st\n",
    "import pandas as pd\n",
    "import numpy as np\n",
    "\n",
    "st.title(\"CFP\")\n",
    "\n",
    "df = pd.read_csv(\"data.csv\")\n",
    "games = pd.read_csv(\"key.csv\")\n",
    "\n",
    "name_conversion = {None:\"open\", \"Indiana\":\"1. Indiana\", \"Notre Dame\":\"2. Notre Dame\"}\n",
    "\n",
    "if \"key\" not in st.session_state:\n",
    "  winners1 = games[games.team1_victory]\n",
    "  winners2 = games[games.team2_victory]\n",
    "\n",
    "df[\"Wins\"] = np.sum(df.eq(st.session_state.key), axis=1)\n",
    "df[\"Losses\"] = np.sum(st.session_state.key != \"open\") - df[\"Wins\"] \n",
    "df = df.sort_values(\"Wins\", ascending=False)\n",
    "\n",
    "col1, col2 = st.columns(2)\n",
    "\n",
    "with col1:\n",
    "  st.dataframe(df[[\"Name\", \"Wins\", \"Losses\"]], hide_index=True)\n",
    "\n",
    "\n",
    "def callback_function():\n",
    "    #print(st.session_state.Game1)\n",
    "    st.session_state.key[\"CFP_First_Round1\"] = name_conversion[st.session_state.CFP1]\n",
    "\n",
    "with col2: \n",
    "  for game in range(0,10):\n",
    "    st.segmented_control(\"CFP\", [\"Indiana\", \"Notre Dame\"], key=\"CFP\"+str(i),  \n",
    "           on_change=callback_function)"
   ]
  },
  {
   "cell_type": "markdown",
   "metadata": {},
   "source": [
    "### Make a theoretical pathway"
   ]
  },
  {
   "cell_type": "code",
   "execution_count": 105,
   "metadata": {},
   "outputs": [],
   "source": [
    "games = pd.read_csv(\"key.csv\")\n",
    "#games.loc[0,\"Team1_Victory\"] = True\n",
    "games = games.set_index(\"Game\")"
   ]
  },
  {
   "cell_type": "code",
   "execution_count": 106,
   "metadata": {},
   "outputs": [
    {
     "data": {
      "text/plain": [
       "array([False, False, False, False, False, False, False, False, False,\n",
       "       False, False, False, False, False, False, False, False, False])"
      ]
     },
     "execution_count": 106,
     "metadata": {},
     "output_type": "execute_result"
    }
   ],
   "source": [
    "winners1 = games.loc[games.Team1_Victory, \"Team1\"]\n",
    "winners2 = games.loc[games.Team2_Victory, \"Team2\"]\n",
    "completed_key = pd.concat([winners1, winners2])\n",
    "games.index.isin(completed_key.index)"
   ]
  },
  {
   "cell_type": "code",
   "execution_count": 107,
   "metadata": {},
   "outputs": [
    {
     "data": {
      "text/html": [
       "<div>\n",
       "<style scoped>\n",
       "    .dataframe tbody tr th:only-of-type {\n",
       "        vertical-align: middle;\n",
       "    }\n",
       "\n",
       "    .dataframe tbody tr th {\n",
       "        vertical-align: top;\n",
       "    }\n",
       "\n",
       "    .dataframe thead th {\n",
       "        text-align: right;\n",
       "    }\n",
       "</style>\n",
       "<table border=\"1\" class=\"dataframe\">\n",
       "  <thead>\n",
       "    <tr style=\"text-align: right;\">\n",
       "      <th></th>\n",
       "      <th>Team1</th>\n",
       "      <th>Team1_Victory</th>\n",
       "      <th>Team2</th>\n",
       "      <th>Team2_Victory</th>\n",
       "    </tr>\n",
       "    <tr>\n",
       "      <th>Game</th>\n",
       "      <th></th>\n",
       "      <th></th>\n",
       "      <th></th>\n",
       "      <th></th>\n",
       "    </tr>\n",
       "  </thead>\n",
       "  <tbody>\n",
       "    <tr>\n",
       "      <th>CFP_First_Round1</th>\n",
       "      <td>1. Indiana</td>\n",
       "      <td>False</td>\n",
       "      <td>2. Notre Dame</td>\n",
       "      <td>False</td>\n",
       "    </tr>\n",
       "    <tr>\n",
       "      <th>CFP_First_Round2</th>\n",
       "      <td>3. Tennessee</td>\n",
       "      <td>False</td>\n",
       "      <td>4. Ohio State</td>\n",
       "      <td>False</td>\n",
       "    </tr>\n",
       "    <tr>\n",
       "      <th>CFP_First_Round3</th>\n",
       "      <td>5. SMU</td>\n",
       "      <td>False</td>\n",
       "      <td>6. Penn State</td>\n",
       "      <td>False</td>\n",
       "    </tr>\n",
       "    <tr>\n",
       "      <th>CFP_First_Round4</th>\n",
       "      <td>7. Clemson</td>\n",
       "      <td>False</td>\n",
       "      <td>8. Texas</td>\n",
       "      <td>False</td>\n",
       "    </tr>\n",
       "    <tr>\n",
       "      <th>Pop_Tarts_Bowl</th>\n",
       "      <td>9. Miami</td>\n",
       "      <td>False</td>\n",
       "      <td>10. Iowa State</td>\n",
       "      <td>False</td>\n",
       "    </tr>\n",
       "    <tr>\n",
       "      <th>Arizona_Bowl</th>\n",
       "      <td>11. Miami (OH)</td>\n",
       "      <td>False</td>\n",
       "      <td>12. Colorado State</td>\n",
       "      <td>False</td>\n",
       "    </tr>\n",
       "    <tr>\n",
       "      <th>Military_Bowl</th>\n",
       "      <td>13. N.C. State</td>\n",
       "      <td>False</td>\n",
       "      <td>14. East Carolina</td>\n",
       "      <td>False</td>\n",
       "    </tr>\n",
       "    <tr>\n",
       "      <th>Alamo_Bowl</th>\n",
       "      <td>15. Colorado</td>\n",
       "      <td>False</td>\n",
       "      <td>16. BYU</td>\n",
       "      <td>False</td>\n",
       "    </tr>\n",
       "    <tr>\n",
       "      <th>Pinstripe_Bowl</th>\n",
       "      <td>17. Boston College</td>\n",
       "      <td>False</td>\n",
       "      <td>18. Nebraska</td>\n",
       "      <td>False</td>\n",
       "    </tr>\n",
       "    <tr>\n",
       "      <th>Music_City_Bowl</th>\n",
       "      <td>19. Missouri</td>\n",
       "      <td>False</td>\n",
       "      <td>20. Iowa</td>\n",
       "      <td>False</td>\n",
       "    </tr>\n",
       "    <tr>\n",
       "      <th>Reliaquest_Bowl</th>\n",
       "      <td>21. Michigan</td>\n",
       "      <td>False</td>\n",
       "      <td>22. Alabama</td>\n",
       "      <td>False</td>\n",
       "    </tr>\n",
       "    <tr>\n",
       "      <th>Sun_Bowl</th>\n",
       "      <td>23. Louisville</td>\n",
       "      <td>False</td>\n",
       "      <td>24. Washington</td>\n",
       "      <td>False</td>\n",
       "    </tr>\n",
       "    <tr>\n",
       "      <th>Citrus_Bowl</th>\n",
       "      <td>25. South Carolina</td>\n",
       "      <td>False</td>\n",
       "      <td>26. Illinois</td>\n",
       "      <td>False</td>\n",
       "    </tr>\n",
       "    <tr>\n",
       "      <th>Texas_Bowl</th>\n",
       "      <td>27. Baylor</td>\n",
       "      <td>False</td>\n",
       "      <td>28. LSU</td>\n",
       "      <td>False</td>\n",
       "    </tr>\n",
       "    <tr>\n",
       "      <th>Gator_Bowl</th>\n",
       "      <td>29. Duke</td>\n",
       "      <td>False</td>\n",
       "      <td>30. Ole Miss</td>\n",
       "      <td>False</td>\n",
       "    </tr>\n",
       "    <tr>\n",
       "      <th>First_Responder_Bowl</th>\n",
       "      <td>31. North Texas</td>\n",
       "      <td>False</td>\n",
       "      <td>32. Texas State</td>\n",
       "      <td>False</td>\n",
       "    </tr>\n",
       "    <tr>\n",
       "      <th>Mayo_Bowl</th>\n",
       "      <td>33. Minnesota</td>\n",
       "      <td>False</td>\n",
       "      <td>34. Virginia Tech</td>\n",
       "      <td>False</td>\n",
       "    </tr>\n",
       "    <tr>\n",
       "      <th>Bahamas_Bowl</th>\n",
       "      <td>35. Liberty</td>\n",
       "      <td>False</td>\n",
       "      <td>36. Buffalo</td>\n",
       "      <td>False</td>\n",
       "    </tr>\n",
       "  </tbody>\n",
       "</table>\n",
       "</div>"
      ],
      "text/plain": [
       "                                   Team1  Team1_Victory               Team2  \\\n",
       "Game                                                                          \n",
       "CFP_First_Round1              1. Indiana          False       2. Notre Dame   \n",
       "CFP_First_Round2            3. Tennessee          False       4. Ohio State   \n",
       "CFP_First_Round3                  5. SMU          False       6. Penn State   \n",
       "CFP_First_Round4              7. Clemson          False            8. Texas   \n",
       "Pop_Tarts_Bowl                  9. Miami          False      10. Iowa State   \n",
       "Arizona_Bowl              11. Miami (OH)          False  12. Colorado State   \n",
       "Military_Bowl             13. N.C. State          False   14. East Carolina   \n",
       "Alamo_Bowl                 15. Colorado           False             16. BYU   \n",
       "Pinstripe_Bowl        17. Boston College          False        18. Nebraska   \n",
       "Music_City_Bowl             19. Missouri          False            20. Iowa   \n",
       "Reliaquest_Bowl             21. Michigan          False         22. Alabama   \n",
       "Sun_Bowl                  23. Louisville          False      24. Washington   \n",
       "Citrus_Bowl           25. South Carolina          False        26. Illinois   \n",
       "Texas_Bowl                    27. Baylor          False             28. LSU   \n",
       "Gator_Bowl                      29. Duke          False        30. Ole Miss   \n",
       "First_Responder_Bowl     31. North Texas          False     32. Texas State   \n",
       "Mayo_Bowl                  33. Minnesota          False   34. Virginia Tech   \n",
       "Bahamas_Bowl                 35. Liberty          False         36. Buffalo   \n",
       "\n",
       "                      Team2_Victory  \n",
       "Game                                 \n",
       "CFP_First_Round1              False  \n",
       "CFP_First_Round2              False  \n",
       "CFP_First_Round3              False  \n",
       "CFP_First_Round4              False  \n",
       "Pop_Tarts_Bowl                False  \n",
       "Arizona_Bowl                  False  \n",
       "Military_Bowl                 False  \n",
       "Alamo_Bowl                    False  \n",
       "Pinstripe_Bowl                False  \n",
       "Music_City_Bowl               False  \n",
       "Reliaquest_Bowl               False  \n",
       "Sun_Bowl                      False  \n",
       "Citrus_Bowl                   False  \n",
       "Texas_Bowl                    False  \n",
       "Gator_Bowl                    False  \n",
       "First_Responder_Bowl          False  \n",
       "Mayo_Bowl                     False  \n",
       "Bahamas_Bowl                  False  "
      ]
     },
     "execution_count": 107,
     "metadata": {},
     "output_type": "execute_result"
    }
   ],
   "source": [
    "open_games = games[(~ games.Team1_Victory) & (~ games.Team2_Victory)]\n",
    "open_games"
   ]
  },
  {
   "cell_type": "code",
   "execution_count": 58,
   "metadata": {},
   "outputs": [
    {
     "data": {
      "text/plain": [
       "Game\n",
       "CFP_First_Round1                1. Indiana\n",
       "CFP_First_Round2              3. Tennessee\n",
       "CFP_First_Round3                    5. SMU\n",
       "CFP_First_Round4                7. Clemson\n",
       "Pop_Tarts_Bowl                    9. Miami\n",
       "Arizona_Bowl                11. Miami (OH)\n",
       "Military_Bowl               13. N.C. State\n",
       "Alamo_Bowl                   15. Colorado \n",
       "Pinstripe_Bowl          17. Boston College\n",
       "Music_City_Bowl               19. Missouri\n",
       "Reliaquest_Bowl               21. Michigan\n",
       "Sun_Bowl                    23. Louisville\n",
       "Citrus_Bowl             25. South Carolina\n",
       "Texas_Bowl                      27. Baylor\n",
       "Gator_Bowl                        29. Duke\n",
       "First_Responder_Bowl       31. North Texas\n",
       "Mayo_Bowl                    33. Minnesota\n",
       "Bahamas_Bowl                   35. Liberty\n",
       "dtype: object"
      ]
     },
     "execution_count": 58,
     "metadata": {},
     "output_type": "execute_result"
    }
   ],
   "source": [
    "completed_key"
   ]
  },
  {
   "cell_type": "code",
   "execution_count": 59,
   "metadata": {},
   "outputs": [],
   "source": [
    "def possible_outcome(completed_key, open_games, number):\n",
    "    open_games = open_games.reset_index()\n",
    "    key = completed_key\n",
    "    '{0:08b}'.format(6)\n",
    "    for i in open_games.index:\n",
    "      if (number & 2**i) > 0:\n",
    "        key[open_games.loc[i,'Game']] = open_games.loc[i,\"Team1\"]\n",
    "      else:\n",
    "        key[open_games.loc[i,'Game']] = open_games.loc[i,\"Team2\"]\n",
    "    return key "
   ]
  },
  {
   "cell_type": "code",
   "execution_count": 87,
   "metadata": {},
   "outputs": [
    {
     "data": {
      "text/plain": [
       "Dave    2\n",
       "Jeff    2\n",
       "dtype: int64"
      ]
     },
     "execution_count": 87,
     "metadata": {},
     "output_type": "execute_result"
    }
   ],
   "source": [
    "s1 = pd.Series({\"Jeff\":1, \"Dave\":2})\n",
    "s1\n",
    "s2 = pd.Series({\"Dave\":1, \"Jeff\":2})\n",
    "s1 + (s2 == 2)\n"
   ]
  },
  {
   "cell_type": "code",
   "execution_count": 80,
   "metadata": {},
   "outputs": [],
   "source": [
    "import numpy as np\n",
    "import pandas as pd\n",
    "\n",
    "df = pd.read_csv(\"data.csv\")\n",
    "\n",
    "def run_simulation(df, completed_key, open_games):\n",
    "  df[\"Simulations_Won\"] = 0\n",
    "  for i in range(0,2**len(open_games)):\n",
    "    possible_outcome2 = possible_outcome(completed_key, open_games, i)\n",
    "    record = np.sum(df.eq(possible_outcome2, axis=1), axis=1)\n",
    "    print(type(record))\n",
    "    df[\"Simulations_Won\"] += (record == np.max(record))\n",
    "  return df\n"
   ]
  },
  {
   "cell_type": "code",
   "execution_count": 81,
   "metadata": {},
   "outputs": [
    {
     "name": "stdout",
     "output_type": "stream",
     "text": [
      "<class 'pandas.core.series.Series'>\n"
     ]
    }
   ],
   "source": [
    "df = run_simulation(df, completed_key, open_games)"
   ]
  },
  {
   "cell_type": "code",
   "execution_count": 67,
   "metadata": {},
   "outputs": [
    {
     "data": {
      "text/html": [
       "<div>\n",
       "<style scoped>\n",
       "    .dataframe tbody tr th:only-of-type {\n",
       "        vertical-align: middle;\n",
       "    }\n",
       "\n",
       "    .dataframe tbody tr th {\n",
       "        vertical-align: top;\n",
       "    }\n",
       "\n",
       "    .dataframe thead th {\n",
       "        text-align: right;\n",
       "    }\n",
       "</style>\n",
       "<table border=\"1\" class=\"dataframe\">\n",
       "  <thead>\n",
       "    <tr style=\"text-align: right;\">\n",
       "      <th></th>\n",
       "      <th>current_record</th>\n",
       "      <th>Simulations_Won</th>\n",
       "    </tr>\n",
       "  </thead>\n",
       "  <tbody>\n",
       "    <tr>\n",
       "      <th>0</th>\n",
       "      <td>8</td>\n",
       "      <td>0</td>\n",
       "    </tr>\n",
       "    <tr>\n",
       "      <th>1</th>\n",
       "      <td>10</td>\n",
       "      <td>0</td>\n",
       "    </tr>\n",
       "    <tr>\n",
       "      <th>2</th>\n",
       "      <td>12</td>\n",
       "      <td>1</td>\n",
       "    </tr>\n",
       "    <tr>\n",
       "      <th>3</th>\n",
       "      <td>7</td>\n",
       "      <td>0</td>\n",
       "    </tr>\n",
       "    <tr>\n",
       "      <th>4</th>\n",
       "      <td>8</td>\n",
       "      <td>0</td>\n",
       "    </tr>\n",
       "    <tr>\n",
       "      <th>5</th>\n",
       "      <td>9</td>\n",
       "      <td>0</td>\n",
       "    </tr>\n",
       "    <tr>\n",
       "      <th>6</th>\n",
       "      <td>10</td>\n",
       "      <td>0</td>\n",
       "    </tr>\n",
       "  </tbody>\n",
       "</table>\n",
       "</div>"
      ],
      "text/plain": [
       "   current_record  Simulations_Won\n",
       "0               8                0\n",
       "1              10                0\n",
       "2              12                1\n",
       "3               7                0\n",
       "4               8                0\n",
       "5               9                0\n",
       "6              10                0"
      ]
     },
     "execution_count": 67,
     "metadata": {},
     "output_type": "execute_result"
    }
   ],
   "source": [
    "df[\"current_record\"] = np.sum(df.eq(completed_key, axis=1), axis=1)\n",
    "df[[\"current_record\", \"Simulations_Won\"]]"
   ]
  },
  {
   "cell_type": "markdown",
   "metadata": {},
   "source": [
    "## Run a Complete Simulation on Data"
   ]
  },
  {
   "cell_type": "markdown",
   "metadata": {},
   "source": [
    "# Alternative Way to Make Theoretical Pathway"
   ]
  },
  {
   "cell_type": "code",
   "execution_count": 89,
   "metadata": {},
   "outputs": [
    {
     "data": {
      "text/plain": [
       "['0011']"
      ]
     },
     "execution_count": 89,
     "metadata": {},
     "output_type": "execute_result"
    }
   ],
   "source": [
    "key = \"0011\"\n",
    "key.split()\n"
   ]
  },
  {
   "cell_type": "code",
   "execution_count": 92,
   "metadata": {},
   "outputs": [
    {
     "data": {
      "text/plain": [
       "['0', '0', '1', '1']"
      ]
     },
     "execution_count": 92,
     "metadata": {},
     "output_type": "execute_result"
    }
   ],
   "source": [
    "[key[i:i+1] for i in range(len(key))]"
   ]
  },
  {
   "cell_type": "code",
   "execution_count": 118,
   "metadata": {},
   "outputs": [
    {
     "data": {
      "text/plain": [
       "'000000000000001010'"
      ]
     },
     "execution_count": 118,
     "metadata": {},
     "output_type": "execute_result"
    }
   ],
   "source": [
    "num = len(open_games.index)\n",
    "key = ('{0:0' + str(num) + 'b}').format(10)\n",
    "key"
   ]
  },
  {
   "cell_type": "code",
   "execution_count": 97,
   "metadata": {},
   "outputs": [
    {
     "name": "stdout",
     "output_type": "stream",
     "text": [
      "0\n",
      "0\n",
      "0\n",
      "0\n",
      "1\n",
      "0\n",
      "1\n",
      "0\n"
     ]
    }
   ],
   "source": [
    "for i in key:\n",
    "    print(i)"
   ]
  },
  {
   "cell_type": "code",
   "execution_count": 100,
   "metadata": {},
   "outputs": [
    {
     "data": {
      "text/plain": [
       "[(1, '0'),\n",
       " (2, '0'),\n",
       " (3, '0'),\n",
       " (4, '0'),\n",
       " (5, '1'),\n",
       " (6, '0'),\n",
       " (7, '1'),\n",
       " (8, '0')]"
      ]
     },
     "execution_count": 100,
     "metadata": {},
     "output_type": "execute_result"
    }
   ],
   "source": [
    "list(zip([1,2,3,4,5,6,7,8], key))"
   ]
  },
  {
   "cell_type": "code",
   "execution_count": 116,
   "metadata": {},
   "outputs": [
    {
     "data": {
      "text/plain": [
       "[('CFP_First_Round1', '0'),\n",
       " ('CFP_First_Round2', '0'),\n",
       " ('CFP_First_Round3', '0'),\n",
       " ('CFP_First_Round4', '0'),\n",
       " ('Pop_Tarts_Bowl', '0'),\n",
       " ('Arizona_Bowl', '0'),\n",
       " ('Military_Bowl', '0'),\n",
       " ('Alamo_Bowl', '0'),\n",
       " ('Pinstripe_Bowl', '0'),\n",
       " ('Music_City_Bowl', '0'),\n",
       " ('Reliaquest_Bowl', '0'),\n",
       " ('Sun_Bowl', '0'),\n",
       " ('Citrus_Bowl', '0'),\n",
       " ('Texas_Bowl', '0'),\n",
       " ('Gator_Bowl', '1'),\n",
       " ('First_Responder_Bowl', '0'),\n",
       " ('Mayo_Bowl', '1'),\n",
       " ('Bahamas_Bowl', '0')]"
      ]
     },
     "execution_count": 116,
     "metadata": {},
     "output_type": "execute_result"
    }
   ],
   "source": [
    "list(zip(open_games.index, key))"
   ]
  },
  {
   "cell_type": "code",
   "execution_count": 120,
   "metadata": {},
   "outputs": [
    {
     "name": "stdout",
     "output_type": "stream",
     "text": [
      "CFP_First_Round1 0\n",
      "CFP_First_Round2 0\n",
      "CFP_First_Round3 0\n",
      "CFP_First_Round4 0\n",
      "Pop_Tarts_Bowl 0\n",
      "Arizona_Bowl 0\n",
      "Military_Bowl 0\n",
      "Alamo_Bowl 0\n",
      "Pinstripe_Bowl 0\n",
      "Music_City_Bowl 0\n",
      "Reliaquest_Bowl 0\n",
      "Sun_Bowl 0\n",
      "Citrus_Bowl 0\n",
      "Texas_Bowl 0\n",
      "Gator_Bowl 1\n",
      "First_Responder_Bowl 0\n",
      "Mayo_Bowl 1\n",
      "Bahamas_Bowl 0\n"
     ]
    }
   ],
   "source": [
    "for i in list(zip(open_games.index, key)):\n",
    "    print(i[0], int(i[1]))"
   ]
  },
  {
   "cell_type": "code",
   "execution_count": 125,
   "metadata": {},
   "outputs": [],
   "source": [
    "open_games = open_games.reset_index()"
   ]
  },
  {
   "cell_type": "code",
   "execution_count": 137,
   "metadata": {},
   "outputs": [
    {
     "data": {
      "text/plain": [
       "Game\n",
       "CFP_First_Round1                1. Indiana\n",
       "CFP_First_Round2              3. Tennessee\n",
       "CFP_First_Round3                    5. SMU\n",
       "CFP_First_Round4                7. Clemson\n",
       "Pop_Tarts_Bowl                    9. Miami\n",
       "Arizona_Bowl                11. Miami (OH)\n",
       "Military_Bowl               13. N.C. State\n",
       "Alamo_Bowl                   15. Colorado \n",
       "Pinstripe_Bowl          17. Boston College\n",
       "Music_City_Bowl               19. Missouri\n",
       "Reliaquest_Bowl               21. Michigan\n",
       "Sun_Bowl                    23. Louisville\n",
       "Citrus_Bowl             25. South Carolina\n",
       "Texas_Bowl                      27. Baylor\n",
       "Gator_Bowl                        29. Duke\n",
       "First_Responder_Bowl       31. North Texas\n",
       "Mayo_Bowl                    33. Minnesota\n",
       "Bahamas_Bowl                   35. Liberty\n",
       "dtype: object"
      ]
     },
     "execution_count": 137,
     "metadata": {},
     "output_type": "execute_result"
    }
   ],
   "source": [
    "def possible_outcome(completed_key, open_games, number):\n",
    "  num = len(open_games.index)\n",
    "  key = ('{0:0' + str(num) + 'b}').format(number)\n",
    "  for i in list(zip(open_games.index, key)):\n",
    "    if i[1] == \"0\":\n",
    "      completed_key[open_games.loc[i[0],\"Game\"]] = open_games.loc[i[0],\"Team2\"]\n",
    "    else:\n",
    "      completed_key[open_games.loc[i[0],\"Game\"]] = open_games.loc[i[0],\"Team1\"] \n",
    "  return completed_key\n",
    "\n",
    "possible_outcome(completed_key, open_games, 2**18-1)"
   ]
  },
  {
   "cell_type": "code",
   "execution_count": 145,
   "metadata": {},
   "outputs": [],
   "source": [
    "for i in range(2**18):\n",
    "  for j in range(15):\n",
    "    i=(260001 & i)"
   ]
  },
  {
   "cell_type": "code",
   "execution_count": 155,
   "metadata": {},
   "outputs": [
    {
     "data": {
      "text/plain": [
       "'0b11110100'"
      ]
     },
     "execution_count": 155,
     "metadata": {},
     "output_type": "execute_result"
    }
   ],
   "source": [
    "bin((~10 & 255) & (~11 & 255))"
   ]
  },
  {
   "cell_type": "code",
   "execution_count": 154,
   "metadata": {},
   "outputs": [
    {
     "data": {
      "text/plain": [
       "'0b1010'"
      ]
     },
     "execution_count": 154,
     "metadata": {},
     "output_type": "execute_result"
    }
   ],
   "source": [
    "bin(10 & 11)"
   ]
  },
  {
   "cell_type": "code",
   "execution_count": 160,
   "metadata": {},
   "outputs": [
    {
     "data": {
      "text/plain": [
       "'0b0'"
      ]
     },
     "execution_count": 160,
     "metadata": {},
     "output_type": "execute_result"
    }
   ],
   "source": [
    "bin(5^5)"
   ]
  },
  {
   "cell_type": "code",
   "execution_count": 174,
   "metadata": {},
   "outputs": [],
   "source": [
    "for i in range(1000000):\n",
    "    record = {0:0,1:0}\n",
    "    number = 260000^i\n",
    "    while (number>0):\n",
    "        #print(number)\n",
    "        record[number%2] += 1\n",
    "        number = number >> 1"
   ]
  },
  {
   "cell_type": "code",
   "execution_count": 170,
   "metadata": {},
   "outputs": [
    {
     "data": {
      "text/plain": [
       "{0: 0, 1: 6}"
      ]
     },
     "execution_count": 170,
     "metadata": {},
     "output_type": "execute_result"
    }
   ],
   "source": [
    "record"
   ]
  },
  {
   "cell_type": "markdown",
   "metadata": {},
   "source": [
    "# Determine if String Matching is the Bottleneck\n",
    "The second technique, which uses bitwise operators for the entire process, runs in reasonable time on the deployed app.    \n",
    "- The bottleneck is with using Pandas Data Object.  \n",
    "- Separate games into locked and open  \n",
    "- Devise a uint32 representation for each players open picks  \n",
    "- For each open scenario, score each player, determine the winner, and add to DataFrame  "
   ]
  },
  {
   "cell_type": "code",
   "execution_count": 24,
   "metadata": {},
   "outputs": [
    {
     "data": {
      "text/html": [
       "<div>\n",
       "<style scoped>\n",
       "    .dataframe tbody tr th:only-of-type {\n",
       "        vertical-align: middle;\n",
       "    }\n",
       "\n",
       "    .dataframe tbody tr th {\n",
       "        vertical-align: top;\n",
       "    }\n",
       "\n",
       "    .dataframe thead th {\n",
       "        text-align: right;\n",
       "    }\n",
       "</style>\n",
       "<table border=\"1\" class=\"dataframe\">\n",
       "  <thead>\n",
       "    <tr style=\"text-align: right;\">\n",
       "      <th></th>\n",
       "      <th>user</th>\n",
       "      <th>Pick1</th>\n",
       "    </tr>\n",
       "  </thead>\n",
       "  <tbody>\n",
       "    <tr>\n",
       "      <th>0</th>\n",
       "      <td>Jeff</td>\n",
       "      <td>0</td>\n",
       "    </tr>\n",
       "    <tr>\n",
       "      <th>1</th>\n",
       "      <td>Dave</td>\n",
       "      <td>1</td>\n",
       "    </tr>\n",
       "  </tbody>\n",
       "</table>\n",
       "</div>"
      ],
      "text/plain": [
       "   user  Pick1\n",
       "0  Jeff      0\n",
       "1  Dave      1"
      ]
     },
     "execution_count": 24,
     "metadata": {},
     "output_type": "execute_result"
    }
   ],
   "source": [
    "import pandas as pd\n",
    "import numpy as np"
   ]
  },
  {
   "cell_type": "code",
   "execution_count": 141,
   "metadata": {},
   "outputs": [],
   "source": [
    "for i in range(0,2**19):\n",
    "  grade = ~(np.uint32(2**18-1) ^ np.uint32(i))\n",
    "  total = np.sum(np.unpackbits(np.array([grade], dtype=np.uint8)))\n",
    "  total += np.sum(np.unpackbits(np.array([grade >> 8], dtype=np.uint8)))\n",
    "  total += np.sum(np.unpackbits(np.array([grade >> 16], dtype=np.uint8))) - 6"
   ]
  },
  {
   "cell_type": "code",
   "execution_count": 142,
   "metadata": {},
   "outputs": [],
   "source": [
    "for i in range(0,2**19):\n",
    "  total = 0\n",
    "  grade = ~(np.uint32(2**18-1) ^ np.uint32(i))\n",
    "\n",
    "  for j in range(0,18):\n",
    "    total += grade % 2\n",
    "    grade = grade >> 1"
   ]
  },
  {
   "cell_type": "markdown",
   "metadata": {},
   "source": [
    "# Try to Numpy Arrays to Manage Picks"
   ]
  },
  {
   "cell_type": "markdown",
   "metadata": {},
   "source": [
    "Able to use Numpy Arrays to manage peoples selections.  Now need to separate played games and other games."
   ]
  },
  {
   "cell_type": "code",
   "execution_count": 208,
   "metadata": {},
   "outputs": [
    {
     "name": "stdout",
     "output_type": "stream",
     "text": [
      "0\n"
     ]
    }
   ],
   "source": [
    "family_picks = np.array([0,1,2,3,4,5,6,7,8,9,10,11,12,13,14,15,16,17,18], dtype=np.uint32)\n",
    "for i in range(0,18):\n",
    "  family_picks[i+1] = 2**i \n",
    "\n",
    "\n",
    "pathways = np.zeros(19)\n",
    "\n",
    "for key in range(0,2**18):\n",
    "  results = ~(family_picks ^ np.uint32(key))\n",
    "  total = np.zeros(19)\n",
    "  for i in range(0,18):\n",
    "    total += results % 2\n",
    "    results = results >> 1\n",
    "  winners = (total == max(total))\n",
    "  if (winners[0]):\n",
    "    print(key) \n",
    "  pathways += winners\n",
    "  \n"
   ]
  },
  {
   "cell_type": "code",
   "execution_count": 210,
   "metadata": {},
   "outputs": [
    {
     "data": {
      "text/plain": [
       "array([1.00000e+00, 1.31072e+05, 1.31072e+05, 1.31072e+05, 1.31072e+05,\n",
       "       1.31072e+05, 1.31072e+05, 1.31072e+05, 1.31072e+05, 1.31072e+05,\n",
       "       1.31072e+05, 1.31072e+05, 1.31072e+05, 1.31072e+05, 1.31072e+05,\n",
       "       1.31072e+05, 1.31072e+05, 1.31072e+05, 1.31072e+05])"
      ]
     },
     "execution_count": 210,
     "metadata": {},
     "output_type": "execute_result"
    }
   ],
   "source": [
    "pathways"
   ]
  },
  {
   "cell_type": "markdown",
   "metadata": {},
   "source": [
    "# Able to Separate Between Played and Open Games"
   ]
  },
  {
   "cell_type": "code",
   "execution_count": 5,
   "metadata": {},
   "outputs": [],
   "source": [
    "import pandas as pd \n",
    "import numpy as np\n",
    "\n",
    "df = pd.read_csv(\"data.csv\")\n",
    "df = df.set_index(\"Name\")\n",
    "key = pd.read_csv(\"key.csv\")\n",
    "key = key.set_index(\"Game\")\n",
    "played_winners = pd.concat([key.loc[key.Team1_Victory, \"Team1\"], key.loc[key.Team2_Victory, \"Team2\"]] )\n"
   ]
  },
  {
   "cell_type": "code",
   "execution_count": 6,
   "metadata": {},
   "outputs": [
    {
     "data": {
      "text/plain": [
       "Name\n",
       "Jeff         1\n",
       "Mom          1\n",
       "Katherine    1\n",
       "Kaia         1\n",
       "Gourav       1\n",
       "Dad          1\n",
       "Mr. Ayala    1\n",
       "Rebecca      1\n",
       "Anabel       1\n",
       "Maria        1\n",
       "Liliana      1\n",
       "David        1\n",
       "dtype: int64"
      ]
     },
     "execution_count": 6,
     "metadata": {},
     "output_type": "execute_result"
    }
   ],
   "source": [
    "completed_games = df[played_winners.index]\n",
    "np.sum(completed_games.eq(played_winners, axis=1), axis=1)"
   ]
  },
  {
   "cell_type": "code",
   "execution_count": 11,
   "metadata": {},
   "outputs": [],
   "source": [
    "open_games = df.drop(columns=played_winners.index)"
   ]
  },
  {
   "cell_type": "code",
   "execution_count": null,
   "metadata": {},
   "outputs": [
    {
     "data": {
      "text/html": [
       "<div>\n",
       "<style scoped>\n",
       "    .dataframe tbody tr th:only-of-type {\n",
       "        vertical-align: middle;\n",
       "    }\n",
       "\n",
       "    .dataframe tbody tr th {\n",
       "        vertical-align: top;\n",
       "    }\n",
       "\n",
       "    .dataframe thead th {\n",
       "        text-align: right;\n",
       "    }\n",
       "</style>\n",
       "<table border=\"1\" class=\"dataframe\">\n",
       "  <thead>\n",
       "    <tr style=\"text-align: right;\">\n",
       "      <th></th>\n",
       "      <th>CFP_First_Round2</th>\n",
       "      <th>CFP_First_Round3</th>\n",
       "      <th>CFP_First_Round4</th>\n",
       "      <th>Pop_Tarts_Bowl</th>\n",
       "      <th>Arizona_Bowl</th>\n",
       "      <th>Military_Bowl</th>\n",
       "      <th>Alamo_Bowl</th>\n",
       "      <th>Pinstripe_Bowl</th>\n",
       "      <th>Music_City_Bowl</th>\n",
       "      <th>Reliaquest_Bowl</th>\n",
       "      <th>Sun_Bowl</th>\n",
       "      <th>Citrus_Bowl</th>\n",
       "      <th>Texas_Bowl</th>\n",
       "      <th>Gator_Bowl</th>\n",
       "      <th>First_Responder_Bowl</th>\n",
       "      <th>Mayo_Bowl</th>\n",
       "      <th>Bahamas_Bowl</th>\n",
       "    </tr>\n",
       "    <tr>\n",
       "      <th>Name</th>\n",
       "      <th></th>\n",
       "      <th></th>\n",
       "      <th></th>\n",
       "      <th></th>\n",
       "      <th></th>\n",
       "      <th></th>\n",
       "      <th></th>\n",
       "      <th></th>\n",
       "      <th></th>\n",
       "      <th></th>\n",
       "      <th></th>\n",
       "      <th></th>\n",
       "      <th></th>\n",
       "      <th></th>\n",
       "      <th></th>\n",
       "      <th></th>\n",
       "      <th></th>\n",
       "    </tr>\n",
       "  </thead>\n",
       "  <tbody>\n",
       "    <tr>\n",
       "      <th>Jeff</th>\n",
       "      <td>0</td>\n",
       "      <td>0</td>\n",
       "      <td>0</td>\n",
       "      <td>1</td>\n",
       "      <td>1</td>\n",
       "      <td>1</td>\n",
       "      <td>1</td>\n",
       "      <td>1</td>\n",
       "      <td>0</td>\n",
       "      <td>0</td>\n",
       "      <td>1</td>\n",
       "      <td>0</td>\n",
       "      <td>0</td>\n",
       "      <td>1</td>\n",
       "      <td>1</td>\n",
       "      <td>0</td>\n",
       "      <td>0</td>\n",
       "    </tr>\n",
       "    <tr>\n",
       "      <th>Mom</th>\n",
       "      <td>0</td>\n",
       "      <td>0</td>\n",
       "      <td>0</td>\n",
       "      <td>1</td>\n",
       "      <td>1</td>\n",
       "      <td>1</td>\n",
       "      <td>0</td>\n",
       "      <td>1</td>\n",
       "      <td>0</td>\n",
       "      <td>1</td>\n",
       "      <td>0</td>\n",
       "      <td>0</td>\n",
       "      <td>0</td>\n",
       "      <td>1</td>\n",
       "      <td>0</td>\n",
       "      <td>0</td>\n",
       "      <td>1</td>\n",
       "    </tr>\n",
       "    <tr>\n",
       "      <th>Katherine</th>\n",
       "      <td>1</td>\n",
       "      <td>0</td>\n",
       "      <td>0</td>\n",
       "      <td>1</td>\n",
       "      <td>0</td>\n",
       "      <td>0</td>\n",
       "      <td>1</td>\n",
       "      <td>0</td>\n",
       "      <td>1</td>\n",
       "      <td>0</td>\n",
       "      <td>0</td>\n",
       "      <td>0</td>\n",
       "      <td>1</td>\n",
       "      <td>1</td>\n",
       "      <td>0</td>\n",
       "      <td>1</td>\n",
       "      <td>1</td>\n",
       "    </tr>\n",
       "    <tr>\n",
       "      <th>Kaia</th>\n",
       "      <td>0</td>\n",
       "      <td>0</td>\n",
       "      <td>0</td>\n",
       "      <td>0</td>\n",
       "      <td>0</td>\n",
       "      <td>0</td>\n",
       "      <td>0</td>\n",
       "      <td>0</td>\n",
       "      <td>1</td>\n",
       "      <td>1</td>\n",
       "      <td>1</td>\n",
       "      <td>1</td>\n",
       "      <td>1</td>\n",
       "      <td>1</td>\n",
       "      <td>1</td>\n",
       "      <td>1</td>\n",
       "      <td>1</td>\n",
       "    </tr>\n",
       "    <tr>\n",
       "      <th>Gourav</th>\n",
       "      <td>0</td>\n",
       "      <td>0</td>\n",
       "      <td>0</td>\n",
       "      <td>1</td>\n",
       "      <td>0</td>\n",
       "      <td>1</td>\n",
       "      <td>1</td>\n",
       "      <td>1</td>\n",
       "      <td>0</td>\n",
       "      <td>1</td>\n",
       "      <td>0</td>\n",
       "      <td>1</td>\n",
       "      <td>1</td>\n",
       "      <td>1</td>\n",
       "      <td>1</td>\n",
       "      <td>1</td>\n",
       "      <td>0</td>\n",
       "    </tr>\n",
       "    <tr>\n",
       "      <th>Dad</th>\n",
       "      <td>0</td>\n",
       "      <td>0</td>\n",
       "      <td>0</td>\n",
       "      <td>1</td>\n",
       "      <td>1</td>\n",
       "      <td>0</td>\n",
       "      <td>1</td>\n",
       "      <td>1</td>\n",
       "      <td>0</td>\n",
       "      <td>0</td>\n",
       "      <td>0</td>\n",
       "      <td>1</td>\n",
       "      <td>0</td>\n",
       "      <td>0</td>\n",
       "      <td>1</td>\n",
       "      <td>1</td>\n",
       "      <td>0</td>\n",
       "    </tr>\n",
       "    <tr>\n",
       "      <th>Mr. Ayala</th>\n",
       "      <td>0</td>\n",
       "      <td>1</td>\n",
       "      <td>0</td>\n",
       "      <td>1</td>\n",
       "      <td>1</td>\n",
       "      <td>1</td>\n",
       "      <td>1</td>\n",
       "      <td>1</td>\n",
       "      <td>1</td>\n",
       "      <td>0</td>\n",
       "      <td>0</td>\n",
       "      <td>0</td>\n",
       "      <td>1</td>\n",
       "      <td>1</td>\n",
       "      <td>1</td>\n",
       "      <td>1</td>\n",
       "      <td>0</td>\n",
       "    </tr>\n",
       "    <tr>\n",
       "      <th>Rebecca</th>\n",
       "      <td>1</td>\n",
       "      <td>1</td>\n",
       "      <td>0</td>\n",
       "      <td>0</td>\n",
       "      <td>0</td>\n",
       "      <td>1</td>\n",
       "      <td>1</td>\n",
       "      <td>0</td>\n",
       "      <td>0</td>\n",
       "      <td>0</td>\n",
       "      <td>1</td>\n",
       "      <td>0</td>\n",
       "      <td>1</td>\n",
       "      <td>0</td>\n",
       "      <td>1</td>\n",
       "      <td>1</td>\n",
       "      <td>0</td>\n",
       "    </tr>\n",
       "    <tr>\n",
       "      <th>Anabel</th>\n",
       "      <td>0</td>\n",
       "      <td>0</td>\n",
       "      <td>0</td>\n",
       "      <td>1</td>\n",
       "      <td>0</td>\n",
       "      <td>0</td>\n",
       "      <td>0</td>\n",
       "      <td>0</td>\n",
       "      <td>0</td>\n",
       "      <td>1</td>\n",
       "      <td>0</td>\n",
       "      <td>0</td>\n",
       "      <td>0</td>\n",
       "      <td>1</td>\n",
       "      <td>1</td>\n",
       "      <td>1</td>\n",
       "      <td>1</td>\n",
       "    </tr>\n",
       "    <tr>\n",
       "      <th>Maria</th>\n",
       "      <td>0</td>\n",
       "      <td>0</td>\n",
       "      <td>0</td>\n",
       "      <td>1</td>\n",
       "      <td>0</td>\n",
       "      <td>1</td>\n",
       "      <td>0</td>\n",
       "      <td>0</td>\n",
       "      <td>1</td>\n",
       "      <td>0</td>\n",
       "      <td>0</td>\n",
       "      <td>1</td>\n",
       "      <td>0</td>\n",
       "      <td>0</td>\n",
       "      <td>0</td>\n",
       "      <td>1</td>\n",
       "      <td>1</td>\n",
       "    </tr>\n",
       "    <tr>\n",
       "      <th>Liliana</th>\n",
       "      <td>0</td>\n",
       "      <td>1</td>\n",
       "      <td>0</td>\n",
       "      <td>1</td>\n",
       "      <td>0</td>\n",
       "      <td>0</td>\n",
       "      <td>1</td>\n",
       "      <td>1</td>\n",
       "      <td>0</td>\n",
       "      <td>1</td>\n",
       "      <td>0</td>\n",
       "      <td>1</td>\n",
       "      <td>1</td>\n",
       "      <td>0</td>\n",
       "      <td>0</td>\n",
       "      <td>1</td>\n",
       "      <td>0</td>\n",
       "    </tr>\n",
       "    <tr>\n",
       "      <th>David</th>\n",
       "      <td>0</td>\n",
       "      <td>0</td>\n",
       "      <td>0</td>\n",
       "      <td>0</td>\n",
       "      <td>1</td>\n",
       "      <td>0</td>\n",
       "      <td>0</td>\n",
       "      <td>1</td>\n",
       "      <td>1</td>\n",
       "      <td>1</td>\n",
       "      <td>0</td>\n",
       "      <td>1</td>\n",
       "      <td>1</td>\n",
       "      <td>0</td>\n",
       "      <td>0</td>\n",
       "      <td>1</td>\n",
       "      <td>0</td>\n",
       "    </tr>\n",
       "  </tbody>\n",
       "</table>\n",
       "</div>"
      ],
      "text/plain": [
       "           CFP_First_Round2  CFP_First_Round3  CFP_First_Round4  \\\n",
       "Name                                                              \n",
       "Jeff                      0                 0                 0   \n",
       "Mom                       0                 0                 0   \n",
       "Katherine                 1                 0                 0   \n",
       "Kaia                      0                 0                 0   \n",
       "Gourav                    0                 0                 0   \n",
       "Dad                       0                 0                 0   \n",
       "Mr. Ayala                 0                 1                 0   \n",
       "Rebecca                   1                 1                 0   \n",
       "Anabel                    0                 0                 0   \n",
       "Maria                     0                 0                 0   \n",
       "Liliana                   0                 1                 0   \n",
       "David                     0                 0                 0   \n",
       "\n",
       "           Pop_Tarts_Bowl  Arizona_Bowl  Military_Bowl  Alamo_Bowl  \\\n",
       "Name                                                                 \n",
       "Jeff                    1             1              1           1   \n",
       "Mom                     1             1              1           0   \n",
       "Katherine               1             0              0           1   \n",
       "Kaia                    0             0              0           0   \n",
       "Gourav                  1             0              1           1   \n",
       "Dad                     1             1              0           1   \n",
       "Mr. Ayala               1             1              1           1   \n",
       "Rebecca                 0             0              1           1   \n",
       "Anabel                  1             0              0           0   \n",
       "Maria                   1             0              1           0   \n",
       "Liliana                 1             0              0           1   \n",
       "David                   0             1              0           0   \n",
       "\n",
       "           Pinstripe_Bowl  Music_City_Bowl  Reliaquest_Bowl  Sun_Bowl  \\\n",
       "Name                                                                    \n",
       "Jeff                    1                0                0         1   \n",
       "Mom                     1                0                1         0   \n",
       "Katherine               0                1                0         0   \n",
       "Kaia                    0                1                1         1   \n",
       "Gourav                  1                0                1         0   \n",
       "Dad                     1                0                0         0   \n",
       "Mr. Ayala               1                1                0         0   \n",
       "Rebecca                 0                0                0         1   \n",
       "Anabel                  0                0                1         0   \n",
       "Maria                   0                1                0         0   \n",
       "Liliana                 1                0                1         0   \n",
       "David                   1                1                1         0   \n",
       "\n",
       "           Citrus_Bowl  Texas_Bowl  Gator_Bowl  First_Responder_Bowl  \\\n",
       "Name                                                                   \n",
       "Jeff                 0           0           1                     1   \n",
       "Mom                  0           0           1                     0   \n",
       "Katherine            0           1           1                     0   \n",
       "Kaia                 1           1           1                     1   \n",
       "Gourav               1           1           1                     1   \n",
       "Dad                  1           0           0                     1   \n",
       "Mr. Ayala            0           1           1                     1   \n",
       "Rebecca              0           1           0                     1   \n",
       "Anabel               0           0           1                     1   \n",
       "Maria                1           0           0                     0   \n",
       "Liliana              1           1           0                     0   \n",
       "David                1           1           0                     0   \n",
       "\n",
       "           Mayo_Bowl  Bahamas_Bowl  \n",
       "Name                                \n",
       "Jeff               0             0  \n",
       "Mom                0             1  \n",
       "Katherine          1             1  \n",
       "Kaia               1             1  \n",
       "Gourav             1             0  \n",
       "Dad                1             0  \n",
       "Mr. Ayala          1             0  \n",
       "Rebecca            1             0  \n",
       "Anabel             1             1  \n",
       "Maria              1             1  \n",
       "Liliana            1             0  \n",
       "David              1             0  "
      ]
     },
     "execution_count": 12,
     "metadata": {},
     "output_type": "execute_result"
    }
   ],
   "source": [
    "open_games = df.drop(columns=played_winners.index)\n",
    "open_games = open_games.map(lambda x: int(x.split(\".\")[0])%2)\n",
    "open_games\n"
   ]
  },
  {
   "cell_type": "code",
   "execution_count": 27,
   "metadata": {},
   "outputs": [
    {
     "data": {
      "text/plain": [
       "array([65536, 32768, 16384,  8192,  4096,  2048,  1024,   512,   256,\n",
       "         128,    64,    32,    16,     8,     4,     2,     1])"
      ]
     },
     "execution_count": 27,
     "metadata": {},
     "output_type": "execute_result"
    }
   ],
   "source": [
    "powers_two = np.array([2**x for x in np.arange(16, -1, -1)])\n",
    "powers_two"
   ]
  },
  {
   "cell_type": "code",
   "execution_count": 29,
   "metadata": {},
   "outputs": [
    {
     "data": {
      "text/html": [
       "<div>\n",
       "<style scoped>\n",
       "    .dataframe tbody tr th:only-of-type {\n",
       "        vertical-align: middle;\n",
       "    }\n",
       "\n",
       "    .dataframe tbody tr th {\n",
       "        vertical-align: top;\n",
       "    }\n",
       "\n",
       "    .dataframe thead th {\n",
       "        text-align: right;\n",
       "    }\n",
       "</style>\n",
       "<table border=\"1\" class=\"dataframe\">\n",
       "  <thead>\n",
       "    <tr style=\"text-align: right;\">\n",
       "      <th></th>\n",
       "      <th>CFP_First_Round2</th>\n",
       "      <th>CFP_First_Round3</th>\n",
       "      <th>CFP_First_Round4</th>\n",
       "      <th>Pop_Tarts_Bowl</th>\n",
       "      <th>Arizona_Bowl</th>\n",
       "      <th>Military_Bowl</th>\n",
       "      <th>Alamo_Bowl</th>\n",
       "      <th>Pinstripe_Bowl</th>\n",
       "      <th>Music_City_Bowl</th>\n",
       "      <th>Reliaquest_Bowl</th>\n",
       "      <th>Sun_Bowl</th>\n",
       "      <th>Citrus_Bowl</th>\n",
       "      <th>Texas_Bowl</th>\n",
       "      <th>Gator_Bowl</th>\n",
       "      <th>First_Responder_Bowl</th>\n",
       "      <th>Mayo_Bowl</th>\n",
       "      <th>Bahamas_Bowl</th>\n",
       "      <th>num</th>\n",
       "    </tr>\n",
       "    <tr>\n",
       "      <th>Name</th>\n",
       "      <th></th>\n",
       "      <th></th>\n",
       "      <th></th>\n",
       "      <th></th>\n",
       "      <th></th>\n",
       "      <th></th>\n",
       "      <th></th>\n",
       "      <th></th>\n",
       "      <th></th>\n",
       "      <th></th>\n",
       "      <th></th>\n",
       "      <th></th>\n",
       "      <th></th>\n",
       "      <th></th>\n",
       "      <th></th>\n",
       "      <th></th>\n",
       "      <th></th>\n",
       "      <th></th>\n",
       "    </tr>\n",
       "  </thead>\n",
       "  <tbody>\n",
       "    <tr>\n",
       "      <th>Jeff</th>\n",
       "      <td>0</td>\n",
       "      <td>0</td>\n",
       "      <td>0</td>\n",
       "      <td>1</td>\n",
       "      <td>1</td>\n",
       "      <td>1</td>\n",
       "      <td>1</td>\n",
       "      <td>1</td>\n",
       "      <td>0</td>\n",
       "      <td>0</td>\n",
       "      <td>1</td>\n",
       "      <td>0</td>\n",
       "      <td>0</td>\n",
       "      <td>1</td>\n",
       "      <td>1</td>\n",
       "      <td>0</td>\n",
       "      <td>0</td>\n",
       "      <td>15948</td>\n",
       "    </tr>\n",
       "    <tr>\n",
       "      <th>Mom</th>\n",
       "      <td>0</td>\n",
       "      <td>0</td>\n",
       "      <td>0</td>\n",
       "      <td>1</td>\n",
       "      <td>1</td>\n",
       "      <td>1</td>\n",
       "      <td>0</td>\n",
       "      <td>1</td>\n",
       "      <td>0</td>\n",
       "      <td>1</td>\n",
       "      <td>0</td>\n",
       "      <td>0</td>\n",
       "      <td>0</td>\n",
       "      <td>1</td>\n",
       "      <td>0</td>\n",
       "      <td>0</td>\n",
       "      <td>1</td>\n",
       "      <td>14985</td>\n",
       "    </tr>\n",
       "    <tr>\n",
       "      <th>Katherine</th>\n",
       "      <td>1</td>\n",
       "      <td>0</td>\n",
       "      <td>0</td>\n",
       "      <td>1</td>\n",
       "      <td>0</td>\n",
       "      <td>0</td>\n",
       "      <td>1</td>\n",
       "      <td>0</td>\n",
       "      <td>1</td>\n",
       "      <td>0</td>\n",
       "      <td>0</td>\n",
       "      <td>0</td>\n",
       "      <td>1</td>\n",
       "      <td>1</td>\n",
       "      <td>0</td>\n",
       "      <td>1</td>\n",
       "      <td>1</td>\n",
       "      <td>75035</td>\n",
       "    </tr>\n",
       "    <tr>\n",
       "      <th>Kaia</th>\n",
       "      <td>0</td>\n",
       "      <td>0</td>\n",
       "      <td>0</td>\n",
       "      <td>0</td>\n",
       "      <td>0</td>\n",
       "      <td>0</td>\n",
       "      <td>0</td>\n",
       "      <td>0</td>\n",
       "      <td>1</td>\n",
       "      <td>1</td>\n",
       "      <td>1</td>\n",
       "      <td>1</td>\n",
       "      <td>1</td>\n",
       "      <td>1</td>\n",
       "      <td>1</td>\n",
       "      <td>1</td>\n",
       "      <td>1</td>\n",
       "      <td>511</td>\n",
       "    </tr>\n",
       "    <tr>\n",
       "      <th>Gourav</th>\n",
       "      <td>0</td>\n",
       "      <td>0</td>\n",
       "      <td>0</td>\n",
       "      <td>1</td>\n",
       "      <td>0</td>\n",
       "      <td>1</td>\n",
       "      <td>1</td>\n",
       "      <td>1</td>\n",
       "      <td>0</td>\n",
       "      <td>1</td>\n",
       "      <td>0</td>\n",
       "      <td>1</td>\n",
       "      <td>1</td>\n",
       "      <td>1</td>\n",
       "      <td>1</td>\n",
       "      <td>1</td>\n",
       "      <td>0</td>\n",
       "      <td>11966</td>\n",
       "    </tr>\n",
       "    <tr>\n",
       "      <th>Dad</th>\n",
       "      <td>0</td>\n",
       "      <td>0</td>\n",
       "      <td>0</td>\n",
       "      <td>1</td>\n",
       "      <td>1</td>\n",
       "      <td>0</td>\n",
       "      <td>1</td>\n",
       "      <td>1</td>\n",
       "      <td>0</td>\n",
       "      <td>0</td>\n",
       "      <td>0</td>\n",
       "      <td>1</td>\n",
       "      <td>0</td>\n",
       "      <td>0</td>\n",
       "      <td>1</td>\n",
       "      <td>1</td>\n",
       "      <td>0</td>\n",
       "      <td>13862</td>\n",
       "    </tr>\n",
       "    <tr>\n",
       "      <th>Mr. Ayala</th>\n",
       "      <td>0</td>\n",
       "      <td>1</td>\n",
       "      <td>0</td>\n",
       "      <td>1</td>\n",
       "      <td>1</td>\n",
       "      <td>1</td>\n",
       "      <td>1</td>\n",
       "      <td>1</td>\n",
       "      <td>1</td>\n",
       "      <td>0</td>\n",
       "      <td>0</td>\n",
       "      <td>0</td>\n",
       "      <td>1</td>\n",
       "      <td>1</td>\n",
       "      <td>1</td>\n",
       "      <td>1</td>\n",
       "      <td>0</td>\n",
       "      <td>48926</td>\n",
       "    </tr>\n",
       "    <tr>\n",
       "      <th>Rebecca</th>\n",
       "      <td>1</td>\n",
       "      <td>1</td>\n",
       "      <td>0</td>\n",
       "      <td>0</td>\n",
       "      <td>0</td>\n",
       "      <td>1</td>\n",
       "      <td>1</td>\n",
       "      <td>0</td>\n",
       "      <td>0</td>\n",
       "      <td>0</td>\n",
       "      <td>1</td>\n",
       "      <td>0</td>\n",
       "      <td>1</td>\n",
       "      <td>0</td>\n",
       "      <td>1</td>\n",
       "      <td>1</td>\n",
       "      <td>0</td>\n",
       "      <td>101462</td>\n",
       "    </tr>\n",
       "    <tr>\n",
       "      <th>Anabel</th>\n",
       "      <td>0</td>\n",
       "      <td>0</td>\n",
       "      <td>0</td>\n",
       "      <td>1</td>\n",
       "      <td>0</td>\n",
       "      <td>0</td>\n",
       "      <td>0</td>\n",
       "      <td>0</td>\n",
       "      <td>0</td>\n",
       "      <td>1</td>\n",
       "      <td>0</td>\n",
       "      <td>0</td>\n",
       "      <td>0</td>\n",
       "      <td>1</td>\n",
       "      <td>1</td>\n",
       "      <td>1</td>\n",
       "      <td>1</td>\n",
       "      <td>8335</td>\n",
       "    </tr>\n",
       "    <tr>\n",
       "      <th>Maria</th>\n",
       "      <td>0</td>\n",
       "      <td>0</td>\n",
       "      <td>0</td>\n",
       "      <td>1</td>\n",
       "      <td>0</td>\n",
       "      <td>1</td>\n",
       "      <td>0</td>\n",
       "      <td>0</td>\n",
       "      <td>1</td>\n",
       "      <td>0</td>\n",
       "      <td>0</td>\n",
       "      <td>1</td>\n",
       "      <td>0</td>\n",
       "      <td>0</td>\n",
       "      <td>0</td>\n",
       "      <td>1</td>\n",
       "      <td>1</td>\n",
       "      <td>10531</td>\n",
       "    </tr>\n",
       "    <tr>\n",
       "      <th>Liliana</th>\n",
       "      <td>0</td>\n",
       "      <td>1</td>\n",
       "      <td>0</td>\n",
       "      <td>1</td>\n",
       "      <td>0</td>\n",
       "      <td>0</td>\n",
       "      <td>1</td>\n",
       "      <td>1</td>\n",
       "      <td>0</td>\n",
       "      <td>1</td>\n",
       "      <td>0</td>\n",
       "      <td>1</td>\n",
       "      <td>1</td>\n",
       "      <td>0</td>\n",
       "      <td>0</td>\n",
       "      <td>1</td>\n",
       "      <td>0</td>\n",
       "      <td>42674</td>\n",
       "    </tr>\n",
       "    <tr>\n",
       "      <th>David</th>\n",
       "      <td>0</td>\n",
       "      <td>0</td>\n",
       "      <td>0</td>\n",
       "      <td>0</td>\n",
       "      <td>1</td>\n",
       "      <td>0</td>\n",
       "      <td>0</td>\n",
       "      <td>1</td>\n",
       "      <td>1</td>\n",
       "      <td>1</td>\n",
       "      <td>0</td>\n",
       "      <td>1</td>\n",
       "      <td>1</td>\n",
       "      <td>0</td>\n",
       "      <td>0</td>\n",
       "      <td>1</td>\n",
       "      <td>0</td>\n",
       "      <td>5042</td>\n",
       "    </tr>\n",
       "  </tbody>\n",
       "</table>\n",
       "</div>"
      ],
      "text/plain": [
       "           CFP_First_Round2  CFP_First_Round3  CFP_First_Round4  \\\n",
       "Name                                                              \n",
       "Jeff                      0                 0                 0   \n",
       "Mom                       0                 0                 0   \n",
       "Katherine                 1                 0                 0   \n",
       "Kaia                      0                 0                 0   \n",
       "Gourav                    0                 0                 0   \n",
       "Dad                       0                 0                 0   \n",
       "Mr. Ayala                 0                 1                 0   \n",
       "Rebecca                   1                 1                 0   \n",
       "Anabel                    0                 0                 0   \n",
       "Maria                     0                 0                 0   \n",
       "Liliana                   0                 1                 0   \n",
       "David                     0                 0                 0   \n",
       "\n",
       "           Pop_Tarts_Bowl  Arizona_Bowl  Military_Bowl  Alamo_Bowl  \\\n",
       "Name                                                                 \n",
       "Jeff                    1             1              1           1   \n",
       "Mom                     1             1              1           0   \n",
       "Katherine               1             0              0           1   \n",
       "Kaia                    0             0              0           0   \n",
       "Gourav                  1             0              1           1   \n",
       "Dad                     1             1              0           1   \n",
       "Mr. Ayala               1             1              1           1   \n",
       "Rebecca                 0             0              1           1   \n",
       "Anabel                  1             0              0           0   \n",
       "Maria                   1             0              1           0   \n",
       "Liliana                 1             0              0           1   \n",
       "David                   0             1              0           0   \n",
       "\n",
       "           Pinstripe_Bowl  Music_City_Bowl  Reliaquest_Bowl  Sun_Bowl  \\\n",
       "Name                                                                    \n",
       "Jeff                    1                0                0         1   \n",
       "Mom                     1                0                1         0   \n",
       "Katherine               0                1                0         0   \n",
       "Kaia                    0                1                1         1   \n",
       "Gourav                  1                0                1         0   \n",
       "Dad                     1                0                0         0   \n",
       "Mr. Ayala               1                1                0         0   \n",
       "Rebecca                 0                0                0         1   \n",
       "Anabel                  0                0                1         0   \n",
       "Maria                   0                1                0         0   \n",
       "Liliana                 1                0                1         0   \n",
       "David                   1                1                1         0   \n",
       "\n",
       "           Citrus_Bowl  Texas_Bowl  Gator_Bowl  First_Responder_Bowl  \\\n",
       "Name                                                                   \n",
       "Jeff                 0           0           1                     1   \n",
       "Mom                  0           0           1                     0   \n",
       "Katherine            0           1           1                     0   \n",
       "Kaia                 1           1           1                     1   \n",
       "Gourav               1           1           1                     1   \n",
       "Dad                  1           0           0                     1   \n",
       "Mr. Ayala            0           1           1                     1   \n",
       "Rebecca              0           1           0                     1   \n",
       "Anabel               0           0           1                     1   \n",
       "Maria                1           0           0                     0   \n",
       "Liliana              1           1           0                     0   \n",
       "David                1           1           0                     0   \n",
       "\n",
       "           Mayo_Bowl  Bahamas_Bowl     num  \n",
       "Name                                        \n",
       "Jeff               0             0   15948  \n",
       "Mom                0             1   14985  \n",
       "Katherine          1             1   75035  \n",
       "Kaia               1             1     511  \n",
       "Gourav             1             0   11966  \n",
       "Dad                1             0   13862  \n",
       "Mr. Ayala          1             0   48926  \n",
       "Rebecca            1             0  101462  \n",
       "Anabel             1             1    8335  \n",
       "Maria              1             1   10531  \n",
       "Liliana            1             0   42674  \n",
       "David              1             0    5042  "
      ]
     },
     "execution_count": 29,
     "metadata": {},
     "output_type": "execute_result"
    }
   ],
   "source": [
    "open_games[\"num\"] = (np.array(open_games.values)).dot(powers_two)\n",
    "open_games"
   ]
  },
  {
   "cell_type": "code",
   "execution_count": 22,
   "metadata": {},
   "outputs": [
    {
     "ename": "AttributeError",
     "evalue": "'DataFrame' object has no attribute 'str'",
     "output_type": "error",
     "traceback": [
      "\u001b[0;31m---------------------------------------------------------------------------\u001b[0m",
      "\u001b[0;31mAttributeError\u001b[0m                            Traceback (most recent call last)",
      "\u001b[0;32m/var/folders/ym/68nrz1n97wj0gz5413bhpqs80000gn/T/ipykernel_45021/1818197463.py\u001b[0m in \u001b[0;36m?\u001b[0;34m()\u001b[0m\n\u001b[0;32m----> 1\u001b[0;31m \u001b[0mint\u001b[0m\u001b[0;34m(\u001b[0m\u001b[0mopen_games\u001b[0m\u001b[0;34m.\u001b[0m\u001b[0mloc\u001b[0m\u001b[0;34m[\u001b[0m\u001b[0;34m:\u001b[0m\u001b[0;34m]\u001b[0m\u001b[0;34m.\u001b[0m\u001b[0mastype\u001b[0m\u001b[0;34m(\u001b[0m\u001b[0mstr\u001b[0m\u001b[0;34m)\u001b[0m\u001b[0;34m.\u001b[0m\u001b[0mstr\u001b[0m\u001b[0;34m.\u001b[0m\u001b[0mcat\u001b[0m\u001b[0;34m(\u001b[0m\u001b[0;34m)\u001b[0m\u001b[0;34m,\u001b[0m\u001b[0;36m2\u001b[0m\u001b[0;34m)\u001b[0m\u001b[0;34m\u001b[0m\u001b[0;34m\u001b[0m\u001b[0m\n\u001b[0m",
      "\u001b[0;32m~/anaconda3/envs/jeff-env/lib/python3.12/site-packages/pandas/core/generic.py\u001b[0m in \u001b[0;36m?\u001b[0;34m(self, name)\u001b[0m\n\u001b[1;32m   6295\u001b[0m             \u001b[0;32mand\u001b[0m \u001b[0mname\u001b[0m \u001b[0;32mnot\u001b[0m \u001b[0;32min\u001b[0m \u001b[0mself\u001b[0m\u001b[0;34m.\u001b[0m\u001b[0m_accessors\u001b[0m\u001b[0;34m\u001b[0m\u001b[0;34m\u001b[0m\u001b[0m\n\u001b[1;32m   6296\u001b[0m             \u001b[0;32mand\u001b[0m \u001b[0mself\u001b[0m\u001b[0;34m.\u001b[0m\u001b[0m_info_axis\u001b[0m\u001b[0;34m.\u001b[0m\u001b[0m_can_hold_identifiers_and_holds_name\u001b[0m\u001b[0;34m(\u001b[0m\u001b[0mname\u001b[0m\u001b[0;34m)\u001b[0m\u001b[0;34m\u001b[0m\u001b[0;34m\u001b[0m\u001b[0m\n\u001b[1;32m   6297\u001b[0m         \u001b[0;34m)\u001b[0m\u001b[0;34m:\u001b[0m\u001b[0;34m\u001b[0m\u001b[0;34m\u001b[0m\u001b[0m\n\u001b[1;32m   6298\u001b[0m             \u001b[0;32mreturn\u001b[0m \u001b[0mself\u001b[0m\u001b[0;34m[\u001b[0m\u001b[0mname\u001b[0m\u001b[0;34m]\u001b[0m\u001b[0;34m\u001b[0m\u001b[0;34m\u001b[0m\u001b[0m\n\u001b[0;32m-> 6299\u001b[0;31m         \u001b[0;32mreturn\u001b[0m \u001b[0mobject\u001b[0m\u001b[0;34m.\u001b[0m\u001b[0m__getattribute__\u001b[0m\u001b[0;34m(\u001b[0m\u001b[0mself\u001b[0m\u001b[0;34m,\u001b[0m \u001b[0mname\u001b[0m\u001b[0;34m)\u001b[0m\u001b[0;34m\u001b[0m\u001b[0;34m\u001b[0m\u001b[0m\n\u001b[0m",
      "\u001b[0;31mAttributeError\u001b[0m: 'DataFrame' object has no attribute 'str'"
     ]
    }
   ],
   "source": [
    "int(open_games.loc[:].astype(str).str.cat(),2) "
   ]
  },
  {
   "cell_type": "code",
   "execution_count": 294,
   "metadata": {},
   "outputs": [
    {
     "data": {
      "text/plain": [
       "262143"
      ]
     },
     "execution_count": 294,
     "metadata": {},
     "output_type": "execute_result"
    }
   ],
   "source": [
    "np.uint32(int(\"111111111111111111\",2))"
   ]
  },
  {
   "cell_type": "code",
   "execution_count": 277,
   "metadata": {},
   "outputs": [
    {
     "data": {
      "text/plain": [
       "CFP_First_Round1             2. Notre Dame\n",
       "CFP_First_Round2             4. Ohio State\n",
       "CFP_First_Round3             6. Penn State\n",
       "CFP_First_Round4                  8. Texas\n",
       "Pop_Tarts_Bowl                    9. Miami\n",
       "Arizona_Bowl                11. Miami (OH)\n",
       "Military_Bowl               13. N.C. State\n",
       "Alamo_Bowl                   15. Colorado \n",
       "Pinstripe_Bowl          17. Boston College\n",
       "Music_City_Bowl                   20. Iowa\n",
       "Reliaquest_Bowl                22. Alabama\n",
       "Sun_Bowl                    23. Louisville\n",
       "Citrus_Bowl                   26. Illinois\n",
       "Texas_Bowl                         28. LSU\n",
       "Gator_Bowl                        29. Duke\n",
       "First_Responder_Bowl       31. North Texas\n",
       "Mayo_Bowl                34. Virginia Tech\n",
       "Bahamas_Bowl                   36. Buffalo\n",
       "Name: Jeff, dtype: object"
      ]
     },
     "execution_count": 277,
     "metadata": {},
     "output_type": "execute_result"
    }
   ],
   "source": [
    "df.loc[\"Jeff\"]"
   ]
  },
  {
   "cell_type": "markdown",
   "metadata": {},
   "source": [
    "# Integrate Everything Together"
   ]
  },
  {
   "cell_type": "code",
   "execution_count": 61,
   "metadata": {},
   "outputs": [],
   "source": [
    "import pandas as pd \n",
    "import numpy as np\n",
    "\n",
    "df = pd.read_csv(\"data.csv\")\n",
    "df = df.set_index(\"Name\")\n",
    "key = pd.read_csv(\"key.csv\")\n",
    "key = key.set_index(\"Game\")\n",
    "played_winners = pd.concat([key.loc[key.Team1_Victory, \"Team1\"], key.loc[key.Team2_Victory, \"Team2\"]] )"
   ]
  },
  {
   "cell_type": "code",
   "execution_count": 62,
   "metadata": {},
   "outputs": [
    {
     "data": {
      "text/html": [
       "<div>\n",
       "<style scoped>\n",
       "    .dataframe tbody tr th:only-of-type {\n",
       "        vertical-align: middle;\n",
       "    }\n",
       "\n",
       "    .dataframe tbody tr th {\n",
       "        vertical-align: top;\n",
       "    }\n",
       "\n",
       "    .dataframe thead th {\n",
       "        text-align: right;\n",
       "    }\n",
       "</style>\n",
       "<table border=\"1\" class=\"dataframe\">\n",
       "  <thead>\n",
       "    <tr style=\"text-align: right;\">\n",
       "      <th></th>\n",
       "      <th>CFP_First_Round1</th>\n",
       "      <th>CFP_First_Round2</th>\n",
       "      <th>CFP_First_Round3</th>\n",
       "      <th>CFP_First_Round4</th>\n",
       "      <th>Pop_Tarts_Bowl</th>\n",
       "      <th>Arizona_Bowl</th>\n",
       "      <th>Military_Bowl</th>\n",
       "      <th>Alamo_Bowl</th>\n",
       "      <th>Pinstripe_Bowl</th>\n",
       "      <th>Music_City_Bowl</th>\n",
       "      <th>Reliaquest_Bowl</th>\n",
       "      <th>Sun_Bowl</th>\n",
       "      <th>Citrus_Bowl</th>\n",
       "      <th>Texas_Bowl</th>\n",
       "      <th>Gator_Bowl</th>\n",
       "      <th>First_Responder_Bowl</th>\n",
       "      <th>Mayo_Bowl</th>\n",
       "      <th>Bahamas_Bowl</th>\n",
       "      <th>Wins</th>\n",
       "    </tr>\n",
       "    <tr>\n",
       "      <th>Name</th>\n",
       "      <th></th>\n",
       "      <th></th>\n",
       "      <th></th>\n",
       "      <th></th>\n",
       "      <th></th>\n",
       "      <th></th>\n",
       "      <th></th>\n",
       "      <th></th>\n",
       "      <th></th>\n",
       "      <th></th>\n",
       "      <th></th>\n",
       "      <th></th>\n",
       "      <th></th>\n",
       "      <th></th>\n",
       "      <th></th>\n",
       "      <th></th>\n",
       "      <th></th>\n",
       "      <th></th>\n",
       "      <th></th>\n",
       "    </tr>\n",
       "  </thead>\n",
       "  <tbody>\n",
       "    <tr>\n",
       "      <th>Jeff</th>\n",
       "      <td>2. Notre Dame</td>\n",
       "      <td>4. Ohio State</td>\n",
       "      <td>6. Penn State</td>\n",
       "      <td>8. Texas</td>\n",
       "      <td>9. Miami</td>\n",
       "      <td>11. Miami (OH)</td>\n",
       "      <td>13. N.C. State</td>\n",
       "      <td>15. Colorado</td>\n",
       "      <td>17. Boston College</td>\n",
       "      <td>20. Iowa</td>\n",
       "      <td>22. Alabama</td>\n",
       "      <td>23. Louisville</td>\n",
       "      <td>26. Illinois</td>\n",
       "      <td>28. LSU</td>\n",
       "      <td>29. Duke</td>\n",
       "      <td>31. North Texas</td>\n",
       "      <td>34. Virginia Tech</td>\n",
       "      <td>36. Buffalo</td>\n",
       "      <td>1</td>\n",
       "    </tr>\n",
       "    <tr>\n",
       "      <th>Mom</th>\n",
       "      <td>2. Notre Dame</td>\n",
       "      <td>4. Ohio State</td>\n",
       "      <td>6. Penn State</td>\n",
       "      <td>8. Texas</td>\n",
       "      <td>9. Miami</td>\n",
       "      <td>11. Miami (OH)</td>\n",
       "      <td>13. N.C. State</td>\n",
       "      <td>16. BYU</td>\n",
       "      <td>17. Boston College</td>\n",
       "      <td>20. Iowa</td>\n",
       "      <td>21. Michigan</td>\n",
       "      <td>24. Washington</td>\n",
       "      <td>26. Illinois</td>\n",
       "      <td>28. LSU</td>\n",
       "      <td>29. Duke</td>\n",
       "      <td>32. Texas State</td>\n",
       "      <td>34. Virginia Tech</td>\n",
       "      <td>35. Liberty</td>\n",
       "      <td>1</td>\n",
       "    </tr>\n",
       "    <tr>\n",
       "      <th>Katherine</th>\n",
       "      <td>2. Notre Dame</td>\n",
       "      <td>3. Tennessee</td>\n",
       "      <td>6. Penn State</td>\n",
       "      <td>8. Texas</td>\n",
       "      <td>9. Miami</td>\n",
       "      <td>12. Colorado State</td>\n",
       "      <td>14. East Carolina</td>\n",
       "      <td>15. Colorado</td>\n",
       "      <td>18. Nebraska</td>\n",
       "      <td>19. Missouri</td>\n",
       "      <td>22. Alabama</td>\n",
       "      <td>24. Washington</td>\n",
       "      <td>26. Illinois</td>\n",
       "      <td>27. Baylor</td>\n",
       "      <td>29. Duke</td>\n",
       "      <td>32. Texas State</td>\n",
       "      <td>33. Minnesota</td>\n",
       "      <td>35. Liberty</td>\n",
       "      <td>1</td>\n",
       "    </tr>\n",
       "    <tr>\n",
       "      <th>Kaia</th>\n",
       "      <td>2. Notre Dame</td>\n",
       "      <td>4. Ohio State</td>\n",
       "      <td>6. Penn State</td>\n",
       "      <td>8. Texas</td>\n",
       "      <td>10. Iowa State</td>\n",
       "      <td>12. Colorado State</td>\n",
       "      <td>14. East Carolina</td>\n",
       "      <td>16. BYU</td>\n",
       "      <td>18. Nebraska</td>\n",
       "      <td>19. Missouri</td>\n",
       "      <td>21. Michigan</td>\n",
       "      <td>23. Louisville</td>\n",
       "      <td>25. South Carolina</td>\n",
       "      <td>27. Baylor</td>\n",
       "      <td>29. Duke</td>\n",
       "      <td>31. North Texas</td>\n",
       "      <td>33. Minnesota</td>\n",
       "      <td>35. Liberty</td>\n",
       "      <td>1</td>\n",
       "    </tr>\n",
       "    <tr>\n",
       "      <th>Gourav</th>\n",
       "      <td>2. Notre Dame</td>\n",
       "      <td>4. Ohio State</td>\n",
       "      <td>6. Penn State</td>\n",
       "      <td>8. Texas</td>\n",
       "      <td>9. Miami</td>\n",
       "      <td>12. Colorado State</td>\n",
       "      <td>13. N.C. State</td>\n",
       "      <td>15. Colorado</td>\n",
       "      <td>17. Boston College</td>\n",
       "      <td>20. Iowa</td>\n",
       "      <td>21. Michigan</td>\n",
       "      <td>24. Washington</td>\n",
       "      <td>25. South Carolina</td>\n",
       "      <td>27. Baylor</td>\n",
       "      <td>29. Duke</td>\n",
       "      <td>31. North Texas</td>\n",
       "      <td>33. Minnesota</td>\n",
       "      <td>36. Buffalo</td>\n",
       "      <td>1</td>\n",
       "    </tr>\n",
       "    <tr>\n",
       "      <th>Dad</th>\n",
       "      <td>2. Notre Dame</td>\n",
       "      <td>4. Ohio State</td>\n",
       "      <td>6. Penn State</td>\n",
       "      <td>8. Texas</td>\n",
       "      <td>9. Miami</td>\n",
       "      <td>11. Miami (OH)</td>\n",
       "      <td>14. East Carolina</td>\n",
       "      <td>15. Colorado</td>\n",
       "      <td>17. Boston College</td>\n",
       "      <td>20. Iowa</td>\n",
       "      <td>22. Alabama</td>\n",
       "      <td>24. Washington</td>\n",
       "      <td>25. South Carolina</td>\n",
       "      <td>28. LSU</td>\n",
       "      <td>30. Ole Miss</td>\n",
       "      <td>31. North Texas</td>\n",
       "      <td>33. Minnesota</td>\n",
       "      <td>36. Buffalo</td>\n",
       "      <td>1</td>\n",
       "    </tr>\n",
       "    <tr>\n",
       "      <th>Mr. Ayala</th>\n",
       "      <td>2. Notre Dame</td>\n",
       "      <td>4. Ohio State</td>\n",
       "      <td>5. SMU</td>\n",
       "      <td>8. Texas</td>\n",
       "      <td>9. Miami</td>\n",
       "      <td>11. Miami (OH)</td>\n",
       "      <td>13. N.C. State</td>\n",
       "      <td>15. Colorado</td>\n",
       "      <td>17. Boston College</td>\n",
       "      <td>19. Missouri</td>\n",
       "      <td>22. Alabama</td>\n",
       "      <td>24. Washington</td>\n",
       "      <td>26. Illinois</td>\n",
       "      <td>27. Baylor</td>\n",
       "      <td>29. Duke</td>\n",
       "      <td>31. North Texas</td>\n",
       "      <td>33. Minnesota</td>\n",
       "      <td>36. Buffalo</td>\n",
       "      <td>1</td>\n",
       "    </tr>\n",
       "    <tr>\n",
       "      <th>Rebecca</th>\n",
       "      <td>2. Notre Dame</td>\n",
       "      <td>3. Tennessee</td>\n",
       "      <td>5. SMU</td>\n",
       "      <td>8. Texas</td>\n",
       "      <td>10. Iowa State</td>\n",
       "      <td>12. Colorado State</td>\n",
       "      <td>13. N.C. State</td>\n",
       "      <td>15. Colorado</td>\n",
       "      <td>18. Nebraska</td>\n",
       "      <td>20. Iowa</td>\n",
       "      <td>22. Alabama</td>\n",
       "      <td>23. Louisville</td>\n",
       "      <td>26. Illinois</td>\n",
       "      <td>27. Baylor</td>\n",
       "      <td>30. Ole Miss</td>\n",
       "      <td>31. North Texas</td>\n",
       "      <td>33. Minnesota</td>\n",
       "      <td>36. Buffalo</td>\n",
       "      <td>1</td>\n",
       "    </tr>\n",
       "    <tr>\n",
       "      <th>Anabel</th>\n",
       "      <td>2. Notre Dame</td>\n",
       "      <td>4. Ohio State</td>\n",
       "      <td>6. Penn State</td>\n",
       "      <td>8. Texas</td>\n",
       "      <td>9. Miami</td>\n",
       "      <td>12. Colorado State</td>\n",
       "      <td>14. East Carolina</td>\n",
       "      <td>16. BYU</td>\n",
       "      <td>18. Nebraska</td>\n",
       "      <td>20. Iowa</td>\n",
       "      <td>21. Michigan</td>\n",
       "      <td>24. Washington</td>\n",
       "      <td>26. Illinois</td>\n",
       "      <td>28. LSU</td>\n",
       "      <td>29. Duke</td>\n",
       "      <td>31. North Texas</td>\n",
       "      <td>33. Minnesota</td>\n",
       "      <td>35. Liberty</td>\n",
       "      <td>1</td>\n",
       "    </tr>\n",
       "    <tr>\n",
       "      <th>Maria</th>\n",
       "      <td>2. Notre Dame</td>\n",
       "      <td>4. Ohio State</td>\n",
       "      <td>6. Penn State</td>\n",
       "      <td>8. Texas</td>\n",
       "      <td>9. Miami</td>\n",
       "      <td>12. Colorado State</td>\n",
       "      <td>13. N.C. State</td>\n",
       "      <td>16. BYU</td>\n",
       "      <td>18. Nebraska</td>\n",
       "      <td>19. Missouri</td>\n",
       "      <td>22. Alabama</td>\n",
       "      <td>24. Washington</td>\n",
       "      <td>25. South Carolina</td>\n",
       "      <td>28. LSU</td>\n",
       "      <td>30. Ole Miss</td>\n",
       "      <td>32. Texas State</td>\n",
       "      <td>33. Minnesota</td>\n",
       "      <td>35. Liberty</td>\n",
       "      <td>1</td>\n",
       "    </tr>\n",
       "    <tr>\n",
       "      <th>Liliana</th>\n",
       "      <td>2. Notre Dame</td>\n",
       "      <td>4. Ohio State</td>\n",
       "      <td>5. SMU</td>\n",
       "      <td>8. Texas</td>\n",
       "      <td>9. Miami</td>\n",
       "      <td>12. Colorado State</td>\n",
       "      <td>14. East Carolina</td>\n",
       "      <td>15. Colorado</td>\n",
       "      <td>17. Boston College</td>\n",
       "      <td>20. Iowa</td>\n",
       "      <td>21. Michigan</td>\n",
       "      <td>24. Washington</td>\n",
       "      <td>25. South Carolina</td>\n",
       "      <td>27. Baylor</td>\n",
       "      <td>30. Ole Miss</td>\n",
       "      <td>32. Texas State</td>\n",
       "      <td>33. Minnesota</td>\n",
       "      <td>36. Buffalo</td>\n",
       "      <td>1</td>\n",
       "    </tr>\n",
       "    <tr>\n",
       "      <th>David</th>\n",
       "      <td>2. Notre Dame</td>\n",
       "      <td>4. Ohio State</td>\n",
       "      <td>6. Penn State</td>\n",
       "      <td>8. Texas</td>\n",
       "      <td>10. Iowa State</td>\n",
       "      <td>11. Miami (OH)</td>\n",
       "      <td>14. East Carolina</td>\n",
       "      <td>16. BYU</td>\n",
       "      <td>17. Boston College</td>\n",
       "      <td>19. Missouri</td>\n",
       "      <td>21. Michigan</td>\n",
       "      <td>24. Washington</td>\n",
       "      <td>25. South Carolina</td>\n",
       "      <td>27. Baylor</td>\n",
       "      <td>30. Ole Miss</td>\n",
       "      <td>32. Texas State</td>\n",
       "      <td>33. Minnesota</td>\n",
       "      <td>36. Buffalo</td>\n",
       "      <td>1</td>\n",
       "    </tr>\n",
       "  </tbody>\n",
       "</table>\n",
       "</div>"
      ],
      "text/plain": [
       "          CFP_First_Round1 CFP_First_Round2 CFP_First_Round3 CFP_First_Round4  \\\n",
       "Name                                                                            \n",
       "Jeff         2. Notre Dame    4. Ohio State    6. Penn State         8. Texas   \n",
       "Mom          2. Notre Dame    4. Ohio State    6. Penn State         8. Texas   \n",
       "Katherine    2. Notre Dame     3. Tennessee    6. Penn State         8. Texas   \n",
       "Kaia         2. Notre Dame    4. Ohio State    6. Penn State         8. Texas   \n",
       "Gourav       2. Notre Dame    4. Ohio State    6. Penn State         8. Texas   \n",
       "Dad          2. Notre Dame    4. Ohio State    6. Penn State         8. Texas   \n",
       "Mr. Ayala    2. Notre Dame    4. Ohio State           5. SMU         8. Texas   \n",
       "Rebecca      2. Notre Dame     3. Tennessee           5. SMU         8. Texas   \n",
       "Anabel       2. Notre Dame    4. Ohio State    6. Penn State         8. Texas   \n",
       "Maria        2. Notre Dame    4. Ohio State    6. Penn State         8. Texas   \n",
       "Liliana      2. Notre Dame    4. Ohio State           5. SMU         8. Texas   \n",
       "David        2. Notre Dame    4. Ohio State    6. Penn State         8. Texas   \n",
       "\n",
       "           Pop_Tarts_Bowl        Arizona_Bowl      Military_Bowl  \\\n",
       "Name                                                               \n",
       "Jeff             9. Miami      11. Miami (OH)     13. N.C. State   \n",
       "Mom              9. Miami      11. Miami (OH)     13. N.C. State   \n",
       "Katherine        9. Miami  12. Colorado State  14. East Carolina   \n",
       "Kaia       10. Iowa State  12. Colorado State  14. East Carolina   \n",
       "Gourav           9. Miami  12. Colorado State     13. N.C. State   \n",
       "Dad              9. Miami      11. Miami (OH)  14. East Carolina   \n",
       "Mr. Ayala        9. Miami      11. Miami (OH)     13. N.C. State   \n",
       "Rebecca    10. Iowa State  12. Colorado State     13. N.C. State   \n",
       "Anabel           9. Miami  12. Colorado State  14. East Carolina   \n",
       "Maria            9. Miami  12. Colorado State     13. N.C. State   \n",
       "Liliana          9. Miami  12. Colorado State  14. East Carolina   \n",
       "David      10. Iowa State      11. Miami (OH)  14. East Carolina   \n",
       "\n",
       "              Alamo_Bowl      Pinstripe_Bowl Music_City_Bowl Reliaquest_Bowl  \\\n",
       "Name                                                                           \n",
       "Jeff       15. Colorado   17. Boston College        20. Iowa     22. Alabama   \n",
       "Mom              16. BYU  17. Boston College        20. Iowa    21. Michigan   \n",
       "Katherine  15. Colorado         18. Nebraska    19. Missouri     22. Alabama   \n",
       "Kaia             16. BYU        18. Nebraska    19. Missouri    21. Michigan   \n",
       "Gourav     15. Colorado   17. Boston College        20. Iowa    21. Michigan   \n",
       "Dad        15. Colorado   17. Boston College        20. Iowa     22. Alabama   \n",
       "Mr. Ayala  15. Colorado   17. Boston College    19. Missouri     22. Alabama   \n",
       "Rebecca    15. Colorado         18. Nebraska        20. Iowa     22. Alabama   \n",
       "Anabel           16. BYU        18. Nebraska        20. Iowa    21. Michigan   \n",
       "Maria            16. BYU        18. Nebraska    19. Missouri     22. Alabama   \n",
       "Liliana    15. Colorado   17. Boston College        20. Iowa    21. Michigan   \n",
       "David            16. BYU  17. Boston College    19. Missouri    21. Michigan   \n",
       "\n",
       "                 Sun_Bowl         Citrus_Bowl  Texas_Bowl    Gator_Bowl  \\\n",
       "Name                                                                      \n",
       "Jeff       23. Louisville        26. Illinois     28. LSU      29. Duke   \n",
       "Mom        24. Washington        26. Illinois     28. LSU      29. Duke   \n",
       "Katherine  24. Washington        26. Illinois  27. Baylor      29. Duke   \n",
       "Kaia       23. Louisville  25. South Carolina  27. Baylor      29. Duke   \n",
       "Gourav     24. Washington  25. South Carolina  27. Baylor      29. Duke   \n",
       "Dad        24. Washington  25. South Carolina     28. LSU  30. Ole Miss   \n",
       "Mr. Ayala  24. Washington        26. Illinois  27. Baylor      29. Duke   \n",
       "Rebecca    23. Louisville        26. Illinois  27. Baylor  30. Ole Miss   \n",
       "Anabel     24. Washington        26. Illinois     28. LSU      29. Duke   \n",
       "Maria      24. Washington  25. South Carolina     28. LSU  30. Ole Miss   \n",
       "Liliana    24. Washington  25. South Carolina  27. Baylor  30. Ole Miss   \n",
       "David      24. Washington  25. South Carolina  27. Baylor  30. Ole Miss   \n",
       "\n",
       "          First_Responder_Bowl          Mayo_Bowl Bahamas_Bowl  Wins  \n",
       "Name                                                                  \n",
       "Jeff           31. North Texas  34. Virginia Tech  36. Buffalo     1  \n",
       "Mom            32. Texas State  34. Virginia Tech  35. Liberty     1  \n",
       "Katherine      32. Texas State      33. Minnesota  35. Liberty     1  \n",
       "Kaia           31. North Texas      33. Minnesota  35. Liberty     1  \n",
       "Gourav         31. North Texas      33. Minnesota  36. Buffalo     1  \n",
       "Dad            31. North Texas      33. Minnesota  36. Buffalo     1  \n",
       "Mr. Ayala      31. North Texas      33. Minnesota  36. Buffalo     1  \n",
       "Rebecca        31. North Texas      33. Minnesota  36. Buffalo     1  \n",
       "Anabel         31. North Texas      33. Minnesota  35. Liberty     1  \n",
       "Maria          32. Texas State      33. Minnesota  35. Liberty     1  \n",
       "Liliana        32. Texas State      33. Minnesota  36. Buffalo     1  \n",
       "David          32. Texas State      33. Minnesota  36. Buffalo     1  "
      ]
     },
     "execution_count": 62,
     "metadata": {},
     "output_type": "execute_result"
    }
   ],
   "source": [
    "completed_games = df[played_winners.index]\n",
    "df[\"Wins\"] = np.sum(completed_games.eq(played_winners, axis=1), axis=1)\n",
    "df"
   ]
  },
  {
   "cell_type": "code",
   "execution_count": 63,
   "metadata": {},
   "outputs": [
    {
     "ename": "AttributeError",
     "evalue": "'int' object has no attribute 'split'",
     "output_type": "error",
     "traceback": [
      "\u001b[0;31m---------------------------------------------------------------------------\u001b[0m",
      "\u001b[0;31mAttributeError\u001b[0m                            Traceback (most recent call last)",
      "Cell \u001b[0;32mIn[63], line 2\u001b[0m\n\u001b[1;32m      1\u001b[0m open_games \u001b[38;5;241m=\u001b[39m df\u001b[38;5;241m.\u001b[39mdrop(columns\u001b[38;5;241m=\u001b[39mplayed_winners\u001b[38;5;241m.\u001b[39mindex)\n\u001b[0;32m----> 2\u001b[0m open_games \u001b[38;5;241m=\u001b[39m open_games\u001b[38;5;241m.\u001b[39mmap(\u001b[38;5;28;01mlambda\u001b[39;00m x: \u001b[38;5;28mint\u001b[39m(x\u001b[38;5;241m.\u001b[39msplit(\u001b[38;5;124m\"\u001b[39m\u001b[38;5;124m.\u001b[39m\u001b[38;5;124m\"\u001b[39m)[\u001b[38;5;241m0\u001b[39m])\u001b[38;5;241m%\u001b[39m\u001b[38;5;241m2\u001b[39m)\n\u001b[1;32m      3\u001b[0m open_games\n",
      "File \u001b[0;32m~/anaconda3/envs/jeff-env/lib/python3.12/site-packages/pandas/core/frame.py:10468\u001b[0m, in \u001b[0;36mDataFrame.map\u001b[0;34m(self, func, na_action, **kwargs)\u001b[0m\n\u001b[1;32m  10465\u001b[0m \u001b[38;5;28;01mdef\u001b[39;00m \u001b[38;5;21minfer\u001b[39m(x):\n\u001b[1;32m  10466\u001b[0m     \u001b[38;5;28;01mreturn\u001b[39;00m x\u001b[38;5;241m.\u001b[39m_map_values(func, na_action\u001b[38;5;241m=\u001b[39mna_action)\n\u001b[0;32m> 10468\u001b[0m \u001b[38;5;28;01mreturn\u001b[39;00m \u001b[38;5;28mself\u001b[39m\u001b[38;5;241m.\u001b[39mapply(infer)\u001b[38;5;241m.\u001b[39m__finalize__(\u001b[38;5;28mself\u001b[39m, \u001b[38;5;124m\"\u001b[39m\u001b[38;5;124mmap\u001b[39m\u001b[38;5;124m\"\u001b[39m)\n",
      "File \u001b[0;32m~/anaconda3/envs/jeff-env/lib/python3.12/site-packages/pandas/core/frame.py:10374\u001b[0m, in \u001b[0;36mDataFrame.apply\u001b[0;34m(self, func, axis, raw, result_type, args, by_row, engine, engine_kwargs, **kwargs)\u001b[0m\n\u001b[1;32m  10360\u001b[0m \u001b[38;5;28;01mfrom\u001b[39;00m \u001b[38;5;21;01mpandas\u001b[39;00m\u001b[38;5;21;01m.\u001b[39;00m\u001b[38;5;21;01mcore\u001b[39;00m\u001b[38;5;21;01m.\u001b[39;00m\u001b[38;5;21;01mapply\u001b[39;00m \u001b[38;5;28;01mimport\u001b[39;00m frame_apply\n\u001b[1;32m  10362\u001b[0m op \u001b[38;5;241m=\u001b[39m frame_apply(\n\u001b[1;32m  10363\u001b[0m     \u001b[38;5;28mself\u001b[39m,\n\u001b[1;32m  10364\u001b[0m     func\u001b[38;5;241m=\u001b[39mfunc,\n\u001b[0;32m   (...)\u001b[0m\n\u001b[1;32m  10372\u001b[0m     kwargs\u001b[38;5;241m=\u001b[39mkwargs,\n\u001b[1;32m  10373\u001b[0m )\n\u001b[0;32m> 10374\u001b[0m \u001b[38;5;28;01mreturn\u001b[39;00m op\u001b[38;5;241m.\u001b[39mapply()\u001b[38;5;241m.\u001b[39m__finalize__(\u001b[38;5;28mself\u001b[39m, method\u001b[38;5;241m=\u001b[39m\u001b[38;5;124m\"\u001b[39m\u001b[38;5;124mapply\u001b[39m\u001b[38;5;124m\"\u001b[39m)\n",
      "File \u001b[0;32m~/anaconda3/envs/jeff-env/lib/python3.12/site-packages/pandas/core/apply.py:916\u001b[0m, in \u001b[0;36mFrameApply.apply\u001b[0;34m(self)\u001b[0m\n\u001b[1;32m    913\u001b[0m \u001b[38;5;28;01melif\u001b[39;00m \u001b[38;5;28mself\u001b[39m\u001b[38;5;241m.\u001b[39mraw:\n\u001b[1;32m    914\u001b[0m     \u001b[38;5;28;01mreturn\u001b[39;00m \u001b[38;5;28mself\u001b[39m\u001b[38;5;241m.\u001b[39mapply_raw(engine\u001b[38;5;241m=\u001b[39m\u001b[38;5;28mself\u001b[39m\u001b[38;5;241m.\u001b[39mengine, engine_kwargs\u001b[38;5;241m=\u001b[39m\u001b[38;5;28mself\u001b[39m\u001b[38;5;241m.\u001b[39mengine_kwargs)\n\u001b[0;32m--> 916\u001b[0m \u001b[38;5;28;01mreturn\u001b[39;00m \u001b[38;5;28mself\u001b[39m\u001b[38;5;241m.\u001b[39mapply_standard()\n",
      "File \u001b[0;32m~/anaconda3/envs/jeff-env/lib/python3.12/site-packages/pandas/core/apply.py:1063\u001b[0m, in \u001b[0;36mFrameApply.apply_standard\u001b[0;34m(self)\u001b[0m\n\u001b[1;32m   1061\u001b[0m \u001b[38;5;28;01mdef\u001b[39;00m \u001b[38;5;21mapply_standard\u001b[39m(\u001b[38;5;28mself\u001b[39m):\n\u001b[1;32m   1062\u001b[0m     \u001b[38;5;28;01mif\u001b[39;00m \u001b[38;5;28mself\u001b[39m\u001b[38;5;241m.\u001b[39mengine \u001b[38;5;241m==\u001b[39m \u001b[38;5;124m\"\u001b[39m\u001b[38;5;124mpython\u001b[39m\u001b[38;5;124m\"\u001b[39m:\n\u001b[0;32m-> 1063\u001b[0m         results, res_index \u001b[38;5;241m=\u001b[39m \u001b[38;5;28mself\u001b[39m\u001b[38;5;241m.\u001b[39mapply_series_generator()\n\u001b[1;32m   1064\u001b[0m     \u001b[38;5;28;01melse\u001b[39;00m:\n\u001b[1;32m   1065\u001b[0m         results, res_index \u001b[38;5;241m=\u001b[39m \u001b[38;5;28mself\u001b[39m\u001b[38;5;241m.\u001b[39mapply_series_numba()\n",
      "File \u001b[0;32m~/anaconda3/envs/jeff-env/lib/python3.12/site-packages/pandas/core/apply.py:1081\u001b[0m, in \u001b[0;36mFrameApply.apply_series_generator\u001b[0;34m(self)\u001b[0m\n\u001b[1;32m   1078\u001b[0m \u001b[38;5;28;01mwith\u001b[39;00m option_context(\u001b[38;5;124m\"\u001b[39m\u001b[38;5;124mmode.chained_assignment\u001b[39m\u001b[38;5;124m\"\u001b[39m, \u001b[38;5;28;01mNone\u001b[39;00m):\n\u001b[1;32m   1079\u001b[0m     \u001b[38;5;28;01mfor\u001b[39;00m i, v \u001b[38;5;129;01min\u001b[39;00m \u001b[38;5;28menumerate\u001b[39m(series_gen):\n\u001b[1;32m   1080\u001b[0m         \u001b[38;5;66;03m# ignore SettingWithCopy here in case the user mutates\u001b[39;00m\n\u001b[0;32m-> 1081\u001b[0m         results[i] \u001b[38;5;241m=\u001b[39m \u001b[38;5;28mself\u001b[39m\u001b[38;5;241m.\u001b[39mfunc(v, \u001b[38;5;241m*\u001b[39m\u001b[38;5;28mself\u001b[39m\u001b[38;5;241m.\u001b[39margs, \u001b[38;5;241m*\u001b[39m\u001b[38;5;241m*\u001b[39m\u001b[38;5;28mself\u001b[39m\u001b[38;5;241m.\u001b[39mkwargs)\n\u001b[1;32m   1082\u001b[0m         \u001b[38;5;28;01mif\u001b[39;00m \u001b[38;5;28misinstance\u001b[39m(results[i], ABCSeries):\n\u001b[1;32m   1083\u001b[0m             \u001b[38;5;66;03m# If we have a view on v, we need to make a copy because\u001b[39;00m\n\u001b[1;32m   1084\u001b[0m             \u001b[38;5;66;03m#  series_generator will swap out the underlying data\u001b[39;00m\n\u001b[1;32m   1085\u001b[0m             results[i] \u001b[38;5;241m=\u001b[39m results[i]\u001b[38;5;241m.\u001b[39mcopy(deep\u001b[38;5;241m=\u001b[39m\u001b[38;5;28;01mFalse\u001b[39;00m)\n",
      "File \u001b[0;32m~/anaconda3/envs/jeff-env/lib/python3.12/site-packages/pandas/core/frame.py:10466\u001b[0m, in \u001b[0;36mDataFrame.map.<locals>.infer\u001b[0;34m(x)\u001b[0m\n\u001b[1;32m  10465\u001b[0m \u001b[38;5;28;01mdef\u001b[39;00m \u001b[38;5;21minfer\u001b[39m(x):\n\u001b[0;32m> 10466\u001b[0m     \u001b[38;5;28;01mreturn\u001b[39;00m x\u001b[38;5;241m.\u001b[39m_map_values(func, na_action\u001b[38;5;241m=\u001b[39mna_action)\n",
      "File \u001b[0;32m~/anaconda3/envs/jeff-env/lib/python3.12/site-packages/pandas/core/base.py:921\u001b[0m, in \u001b[0;36mIndexOpsMixin._map_values\u001b[0;34m(self, mapper, na_action, convert)\u001b[0m\n\u001b[1;32m    918\u001b[0m \u001b[38;5;28;01mif\u001b[39;00m \u001b[38;5;28misinstance\u001b[39m(arr, ExtensionArray):\n\u001b[1;32m    919\u001b[0m     \u001b[38;5;28;01mreturn\u001b[39;00m arr\u001b[38;5;241m.\u001b[39mmap(mapper, na_action\u001b[38;5;241m=\u001b[39mna_action)\n\u001b[0;32m--> 921\u001b[0m \u001b[38;5;28;01mreturn\u001b[39;00m algorithms\u001b[38;5;241m.\u001b[39mmap_array(arr, mapper, na_action\u001b[38;5;241m=\u001b[39mna_action, convert\u001b[38;5;241m=\u001b[39mconvert)\n",
      "File \u001b[0;32m~/anaconda3/envs/jeff-env/lib/python3.12/site-packages/pandas/core/algorithms.py:1743\u001b[0m, in \u001b[0;36mmap_array\u001b[0;34m(arr, mapper, na_action, convert)\u001b[0m\n\u001b[1;32m   1741\u001b[0m values \u001b[38;5;241m=\u001b[39m arr\u001b[38;5;241m.\u001b[39mastype(\u001b[38;5;28mobject\u001b[39m, copy\u001b[38;5;241m=\u001b[39m\u001b[38;5;28;01mFalse\u001b[39;00m)\n\u001b[1;32m   1742\u001b[0m \u001b[38;5;28;01mif\u001b[39;00m na_action \u001b[38;5;129;01mis\u001b[39;00m \u001b[38;5;28;01mNone\u001b[39;00m:\n\u001b[0;32m-> 1743\u001b[0m     \u001b[38;5;28;01mreturn\u001b[39;00m lib\u001b[38;5;241m.\u001b[39mmap_infer(values, mapper, convert\u001b[38;5;241m=\u001b[39mconvert)\n\u001b[1;32m   1744\u001b[0m \u001b[38;5;28;01melse\u001b[39;00m:\n\u001b[1;32m   1745\u001b[0m     \u001b[38;5;28;01mreturn\u001b[39;00m lib\u001b[38;5;241m.\u001b[39mmap_infer_mask(\n\u001b[1;32m   1746\u001b[0m         values, mapper, mask\u001b[38;5;241m=\u001b[39misna(values)\u001b[38;5;241m.\u001b[39mview(np\u001b[38;5;241m.\u001b[39muint8), convert\u001b[38;5;241m=\u001b[39mconvert\n\u001b[1;32m   1747\u001b[0m     )\n",
      "File \u001b[0;32mlib.pyx:2972\u001b[0m, in \u001b[0;36mpandas._libs.lib.map_infer\u001b[0;34m()\u001b[0m\n",
      "Cell \u001b[0;32mIn[63], line 2\u001b[0m, in \u001b[0;36m<lambda>\u001b[0;34m(x)\u001b[0m\n\u001b[1;32m      1\u001b[0m open_games \u001b[38;5;241m=\u001b[39m df\u001b[38;5;241m.\u001b[39mdrop(columns\u001b[38;5;241m=\u001b[39mplayed_winners\u001b[38;5;241m.\u001b[39mindex)\n\u001b[0;32m----> 2\u001b[0m open_games \u001b[38;5;241m=\u001b[39m open_games\u001b[38;5;241m.\u001b[39mmap(\u001b[38;5;28;01mlambda\u001b[39;00m x: \u001b[38;5;28mint\u001b[39m(x\u001b[38;5;241m.\u001b[39msplit(\u001b[38;5;124m\"\u001b[39m\u001b[38;5;124m.\u001b[39m\u001b[38;5;124m\"\u001b[39m)[\u001b[38;5;241m0\u001b[39m])\u001b[38;5;241m%\u001b[39m\u001b[38;5;241m2\u001b[39m)\n\u001b[1;32m      3\u001b[0m open_games\n",
      "\u001b[0;31mAttributeError\u001b[0m: 'int' object has no attribute 'split'"
     ]
    }
   ],
   "source": [
    "open_games = df.drop(columns=played_winners.index)\n",
    "open_games = open_games.map(lambda x: int(x.split(\".\")[0])%2)\n",
    "open_games\n"
   ]
  },
  {
   "cell_type": "code",
   "execution_count": 54,
   "metadata": {},
   "outputs": [
    {
     "data": {
      "text/plain": [
       "array([65536, 32768, 16384,  8192,  4096,  2048,  1024,   512,   256,\n",
       "         128,    64,    32,    16,     8,     4,     2,     1])"
      ]
     },
     "execution_count": 54,
     "metadata": {},
     "output_type": "execute_result"
    }
   ],
   "source": [
    "powers_two = np.array([2**x for x in np.arange(16, -1, -1)])\n",
    "powers_two"
   ]
  },
  {
   "cell_type": "code",
   "execution_count": 55,
   "metadata": {},
   "outputs": [
    {
     "ename": "ValueError",
     "evalue": "shapes (12,18) and (17,) not aligned: 18 (dim 1) != 17 (dim 0)",
     "output_type": "error",
     "traceback": [
      "\u001b[0;31m---------------------------------------------------------------------------\u001b[0m",
      "\u001b[0;31mValueError\u001b[0m                                Traceback (most recent call last)",
      "Cell \u001b[0;32mIn[55], line 1\u001b[0m\n\u001b[0;32m----> 1\u001b[0m open_games[\u001b[38;5;124m\"\u001b[39m\u001b[38;5;124mnum\u001b[39m\u001b[38;5;124m\"\u001b[39m] \u001b[38;5;241m=\u001b[39m (np\u001b[38;5;241m.\u001b[39marray(open_games\u001b[38;5;241m.\u001b[39mvalues))\u001b[38;5;241m.\u001b[39mdot(powers_two)\n\u001b[1;32m      2\u001b[0m open_games[\u001b[38;5;124m\"\u001b[39m\u001b[38;5;124mnum\u001b[39m\u001b[38;5;124m\"\u001b[39m]\n",
      "\u001b[0;31mValueError\u001b[0m: shapes (12,18) and (17,) not aligned: 18 (dim 1) != 17 (dim 0)"
     ]
    }
   ],
   "source": [
    "open_games[\"num\"] = (np.array(open_games.values)).dot(powers_two)\n",
    "open_games[\"num\"]"
   ]
  },
  {
   "cell_type": "code",
   "execution_count": 43,
   "metadata": {},
   "outputs": [],
   "source": [
    "family_picks = open_games[\"num\"].to_numpy()"
   ]
  },
  {
   "cell_type": "code",
   "execution_count": 57,
   "metadata": {},
   "outputs": [],
   "source": [
    "pathways = np.zeros(12)\n",
    "\n",
    "for scenario in range(0,2**17):\n",
    "  results = ~(family_picks ^ np.uint32(scenario))\n",
    "  total = df.Wins.to_numpy()\n",
    "  for i in range(0,18):\n",
    "    total += results % 2\n",
    "    results = results >> 1\n",
    "  winners = (total == max(total))\n",
    "  pathways += winners"
   ]
  },
  {
   "cell_type": "code",
   "execution_count": 60,
   "metadata": {},
   "outputs": [
    {
     "data": {
      "text/plain": [
       "Name\n",
       "Jeff         1245185\n",
       "Mom          1245185\n",
       "Katherine    1245185\n",
       "Kaia         1245185\n",
       "Gourav       1245185\n",
       "Dad          1245185\n",
       "Mr. Ayala    1245185\n",
       "Rebecca      1245185\n",
       "Anabel       1245185\n",
       "Maria        1245185\n",
       "Liliana      1245185\n",
       "David        1245185\n",
       "Name: Wins, dtype: int64"
      ]
     },
     "execution_count": 60,
     "metadata": {},
     "output_type": "execute_result"
    }
   ],
   "source": [
    "df.Wins"
   ]
  },
  {
   "cell_type": "code",
   "execution_count": 58,
   "metadata": {},
   "outputs": [],
   "source": [
    "open_games[\"pathways\"] = pathways"
   ]
  },
  {
   "cell_type": "code",
   "execution_count": 59,
   "metadata": {},
   "outputs": [
    {
     "data": {
      "text/plain": [
       "Name\n",
       "Jeff              8.0\n",
       "Mom               8.0\n",
       "Katherine         1.0\n",
       "Kaia         126400.0\n",
       "Gourav            8.0\n",
       "Dad               8.0\n",
       "Mr. Ayala         2.0\n",
       "Rebecca           1.0\n",
       "Anabel         4616.0\n",
       "Maria            72.0\n",
       "Liliana           2.0\n",
       "David           160.0\n",
       "Name: pathways, dtype: float64"
      ]
     },
     "execution_count": 59,
     "metadata": {},
     "output_type": "execute_result"
    }
   ],
   "source": [
    "open_games[\"pathways\"]"
   ]
  },
  {
   "cell_type": "code",
   "execution_count": null,
   "metadata": {},
   "outputs": [],
   "source": []
  }
 ],
 "metadata": {
  "kernelspec": {
   "display_name": "jeff-env",
   "language": "python",
   "name": "python3"
  },
  "language_info": {
   "codemirror_mode": {
    "name": "ipython",
    "version": 3
   },
   "file_extension": ".py",
   "mimetype": "text/x-python",
   "name": "python",
   "nbconvert_exporter": "python",
   "pygments_lexer": "ipython3",
   "version": "3.12.2"
  }
 },
 "nbformat": 4,
 "nbformat_minor": 2
}
