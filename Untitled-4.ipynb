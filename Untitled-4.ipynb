{
 "cells": [
  {
   "cell_type": "code",
   "execution_count": 43,
   "metadata": {},
   "outputs": [
    {
     "name": "stdout",
     "output_type": "stream",
     "text": [
      "CAATCCGTCAGCAAACTCTCGTGCTTGTACAACGTCATCTACTCCCTAAATCGTCCTTCTAGTGTAATCGGGAATAACCGAGCCTACCCCGGACTCCGAAAGATCGCTTGCCCCCAGTTGCGCACGATGACTAATAAGTCAGGCCACGGGAGCTAATGTTTATCTTGGGAGTCCTAAACTATTTATCGCCTGCAGATTCACCCGCATGACTGGCGTCTCGAGCCGGAGTTTTATGAGAAGGGCAAGTCCACAAGATGGCACGCCAAATAGGTATCTGAGACCGGTGGGCCCTAAGAGGATGCAGGCGGAAGCGCGAAACTACCAATGCATCCATAATCGTGCGCGTTGCTTGACCCTTAGATTGGGCCATTCAGTCAACTCATAGTGAATCCTGTTGTGACCTGTCCTGTTCTGCGTTTAGTGATCCTTAAACGCAGGAGGTTGGTCTCGGACTTAACGCTGACGTATGTAATGGCATCTCTCCTATATAGAGTTTTGCCAGAGTGTGTTCGGAGTCACGTCCGGTTTCATAGTATAGCCTAAGTGTTAGATTCGCCGGAATATGGCGAAATGGGAGTACAATCGGCACTCAGCAAAATTATAGCTAAGCTGATCCTTTGTTATAACAGGCTCACCCTAAGGCGCGTTGCCAATAGCTTCTGGGAGGACGATAACGAGGTAAAGGCAGCAGTGTCTATGGAGACCGATTGGTAACTAAACGCATGTGAACCGCGCCTGTGAGCATATGTATATCTTCAGTCGCTATGTGCAACGGTTTCAGTTGCCATTTTTTGGAATCCAAATGGCCTTTGTTGTTATAAGCATTATCCCACTGTTTCGTATCTGCTCAGGAGGCGAGTTTATATCTCGCTTATAGTGTATAATACCCCTTTATGGTGGTATATTTCCGCCCCGTCGGCGCATCGTCAGTTGCCCGTGCCTTGGACCATCGGGGTTACA\n",
      "\n"
     ]
    }
   ],
   "source": [
    "with open(\"text.txt\") as f:\n",
    "    my_string = f.read()\n",
    "print(my_string)"
   ]
  },
  {
   "cell_type": "code",
   "execution_count": 47,
   "metadata": {},
   "outputs": [
    {
     "ename": "KeyError",
     "evalue": "'\\n'",
     "output_type": "error",
     "traceback": [
      "\u001b[0;31m---------------------------------------------------------------------------\u001b[0m",
      "\u001b[0;31mKeyError\u001b[0m                                  Traceback (most recent call last)",
      "Cell \u001b[0;32mIn[47], line 8\u001b[0m\n\u001b[1;32m      5\u001b[0m my_dict[\u001b[38;5;124m\"\u001b[39m\u001b[38;5;124mT\u001b[39m\u001b[38;5;124m\"\u001b[39m] \u001b[38;5;241m=\u001b[39m \u001b[38;5;241m0\u001b[39m\n\u001b[1;32m      7\u001b[0m \u001b[38;5;28;01mfor\u001b[39;00m i \u001b[38;5;129;01min\u001b[39;00m \u001b[38;5;28mrange\u001b[39m(\u001b[38;5;241m0\u001b[39m, \u001b[38;5;28mlen\u001b[39m(my_string)):\n\u001b[0;32m----> 8\u001b[0m   my_dict[my_string[i:i\u001b[38;5;241m+\u001b[39m\u001b[38;5;241m1\u001b[39m]] \u001b[38;5;241m+\u001b[39m\u001b[38;5;241m=\u001b[39m \u001b[38;5;241m1\u001b[39m\n",
      "\u001b[0;31mKeyError\u001b[0m: '\\n'"
     ]
    }
   ],
   "source": [
    "my_dict = {}\n",
    "my_dict[\"A\"] = 0\n",
    "my_dict[\"C\"] = 0\n",
    "my_dict[\"G\"] = 0\n",
    "my_dict[\"T\"] = 0\n",
    "\n",
    "for i in range(0, len(my_string)):\n",
    "  my_dict[my_string[i:i+1]] += 1\n"
   ]
  },
  {
   "cell_type": "code",
   "execution_count": 41,
   "metadata": {},
   "outputs": [],
   "source": [
    "my_dict = {}\n",
    "\n",
    "for word in my_string:\n",
    "    word = word.strip()\n",
    "    if word in my_dict:\n",
    "        my_dict[word] += 1\n",
    "    else:\n",
    "        my_dict[word] = 1\n"
   ]
  },
  {
   "cell_type": "code",
   "execution_count": 48,
   "metadata": {},
   "outputs": [
    {
     "data": {
      "text/plain": [
       "{'A': 230, 'C': 230, 'G': 237, 'T': 263}"
      ]
     },
     "execution_count": 48,
     "metadata": {},
     "output_type": "execute_result"
    }
   ],
   "source": [
    "my_dict"
   ]
  },
  {
   "cell_type": "code",
   "execution_count": null,
   "metadata": {},
   "outputs": [
    {
     "name": "stdout",
     "output_type": "stream",
     "text": [
      "When 1\n",
      "I 2\n",
      "find 1\n",
      "myself 1\n",
      "in 4\n",
      "times 1\n",
      "of 11\n",
      "trouble 1\n",
      "Mother 2\n",
      "Mary 2\n",
      "comes 2\n",
      "to 3\n",
      "me 4\n",
      "Speaking 3\n",
      "words 7\n",
      "wisdom 7\n",
      "let 30\n",
      "it 36\n",
      "be 41\n",
      "And 3\n",
      "my 1\n",
      "hour 1\n",
      "darkness 1\n",
      "she 1\n",
      "is 4\n",
      "standing 1\n",
      "right 1\n",
      "front 1\n",
      "Let 6\n",
      "Whisper 4\n",
      "when 2\n",
      "the 4\n",
      "broken 1\n",
      "hearted 1\n",
      "people 1\n",
      "living 1\n",
      "world 1\n",
      "agree 1\n",
      "There 4\n",
      "will 5\n",
      "an 4\n",
      "answer 4\n",
      "For 1\n",
      "though 1\n",
      "they 2\n",
      "may 1\n",
      "parted 1\n",
      "there 2\n",
      "still 2\n",
      "a 2\n",
      "chance 1\n",
      "that 2\n",
      "see 1\n",
      "night 1\n",
      "cloudy 1\n",
      "light 1\n",
      "shines 1\n",
      "on 1\n",
      "Shine 1\n",
      "until 1\n",
      "tomorrow 1\n",
      "wake 1\n",
      "up 1\n",
      "sound 1\n",
      "music 1\n",
      "yeah 2\n"
     ]
    }
   ],
   "source": [
    "for i in my_dict:\n",
    "    i = i.strip()\n",
    "    print(i + \" \" + str(my_dict[i]))"
   ]
  },
  {
   "cell_type": "code",
   "execution_count": 51,
   "metadata": {},
   "outputs": [
    {
     "data": {
      "text/plain": [
       "array([-1, -1, -1])"
      ]
     },
     "execution_count": 51,
     "metadata": {},
     "output_type": "execute_result"
    }
   ],
   "source": [
    "import numpy as np\n",
    "\n",
    "temp = np.array([0,0,0])\n",
    "temp2 = np.array([1,1,1])\n",
    "\n",
    "temp - temp2"
   ]
  },
  {
   "cell_type": "code",
   "execution_count": 52,
   "metadata": {},
   "outputs": [
    {
     "data": {
      "text/plain": [
       "'4'"
      ]
     },
     "execution_count": 52,
     "metadata": {},
     "output_type": "execute_result"
    }
   ],
   "source": [
    "my_string = \"\"\"\n",
    "73167176531330624919225119674426574742355349194934\n",
    "96983520312774506326239578318016984801869478851843\n",
    "85861560789112949495459501737958331952853208805511\n",
    "12540698747158523863050715693290963295227443043557\n",
    "66896648950445244523161731856403098711121722383113\n",
    "62229893423380308135336276614282806444486645238749\n",
    "30358907296290491560440772390713810515859307960866\n",
    "70172427121883998797908792274921901699720888093776\n",
    "65727333001053367881220235421809751254540594752243\n",
    "52584907711670556013604839586446706324415722155397\n",
    "53697817977846174064955149290862569321978468622482\n",
    "83972241375657056057490261407972968652414535100474\n",
    "82166370484403199890008895243450658541227588666881\n",
    "16427171479924442928230863465674813919123162824586\n",
    "17866458359124566529476545682848912883142607690042\n",
    "24219022671055626321111109370544217506941658960408\n",
    "07198403850962455444362981230987879927244284909188\n",
    "84580156166097919133875499200524063689912560717606\n",
    "05886116467109405077541002256983155200055935729725\n",
    "71636269561882670428252483600823257530420752963450\n",
    "\"\"\"\n",
    "my_string[100]"
   ]
  },
  {
   "cell_type": "code",
   "execution_count": 4,
   "metadata": {},
   "outputs": [],
   "source": [
    "import numpy as np\n",
    "\n",
    "key = {\n",
    "    \"0\": np.array([0,0,0,0]),\n",
    "    \"1\": np.array([0,0,0,0]),\n",
    "    \"2\": np.array([1,0,0,0]),\n",
    "    \"3\": np.array([0,1,0,0]),\n",
    "    \"4\": np.array([2,0,0,0]),\n",
    "    \"5\": np.array([0,0,1,0]),\n",
    "    \"6\": np.array([1,1,0,0]),\n",
    "    \"7\": np.array([0,0,0,1]),\n",
    "    \"8\": np.array([3,0,0,0]),\n",
    "    \"9\": np.array([0,2,0,0])\n",
    "}"
   ]
  },
  {
   "cell_type": "code",
   "execution_count": 22,
   "metadata": {},
   "outputs": [],
   "source": [
    "basis = [2,3,5,7]\n",
    "\n",
    "my_int = \"59\"\n",
    "\n",
    "my_vector = np.array([0,0,0,0])\n",
    "\n",
    "for i in range(0,len(my_int)):\n",
    "    my_vector += key[my_int[i:i+1]]\n",
    "\n",
    "total = 1\n",
    "for i in range(0,4):\n",
    "    total *= basis[i] ** my_vector[i]\n"
   ]
  },
  {
   "cell_type": "code",
   "execution_count": 23,
   "metadata": {},
   "outputs": [
    {
     "data": {
      "text/plain": [
       "45"
      ]
     },
     "execution_count": 23,
     "metadata": {},
     "output_type": "execute_result"
    }
   ],
   "source": [
    "total"
   ]
  },
  {
   "cell_type": "code",
   "execution_count": 133,
   "metadata": {},
   "outputs": [
    {
     "data": {
      "text/plain": [
       "age       40\n",
       "height    40\n",
       "dtype: int64"
      ]
     },
     "execution_count": 133,
     "metadata": {},
     "output_type": "execute_result"
    }
   ],
   "source": [
    "import pandas as pd\n",
    "df = pd.DataFrame([{\"name\":\"Jeff\", \"age\":40, \"height\":40},\n",
    "                   {\"name\":\"Dave\", \"age\":41, \"height\":40}])\n",
    "\n",
    "key = pd.Series({\"age\":40,\"height\":40})\n",
    "key"
   ]
  },
  {
   "cell_type": "code",
   "execution_count": 134,
   "metadata": {},
   "outputs": [
    {
     "data": {
      "text/html": [
       "<div>\n",
       "<style scoped>\n",
       "    .dataframe tbody tr th:only-of-type {\n",
       "        vertical-align: middle;\n",
       "    }\n",
       "\n",
       "    .dataframe tbody tr th {\n",
       "        vertical-align: top;\n",
       "    }\n",
       "\n",
       "    .dataframe thead th {\n",
       "        text-align: right;\n",
       "    }\n",
       "</style>\n",
       "<table border=\"1\" class=\"dataframe\">\n",
       "  <thead>\n",
       "    <tr style=\"text-align: right;\">\n",
       "      <th></th>\n",
       "      <th>age</th>\n",
       "      <th>height</th>\n",
       "      <th>name</th>\n",
       "    </tr>\n",
       "  </thead>\n",
       "  <tbody>\n",
       "    <tr>\n",
       "      <th>0</th>\n",
       "      <td>True</td>\n",
       "      <td>True</td>\n",
       "      <td>False</td>\n",
       "    </tr>\n",
       "    <tr>\n",
       "      <th>1</th>\n",
       "      <td>False</td>\n",
       "      <td>True</td>\n",
       "      <td>False</td>\n",
       "    </tr>\n",
       "  </tbody>\n",
       "</table>\n",
       "</div>"
      ],
      "text/plain": [
       "     age  height   name\n",
       "0   True    True  False\n",
       "1  False    True  False"
      ]
     },
     "execution_count": 134,
     "metadata": {},
     "output_type": "execute_result"
    }
   ],
   "source": [
    "df.eq(key)"
   ]
  },
  {
   "cell_type": "code",
   "execution_count": null,
   "metadata": {},
   "outputs": [
    {
     "data": {
      "text/html": [
       "<div>\n",
       "<style scoped>\n",
       "    .dataframe tbody tr th:only-of-type {\n",
       "        vertical-align: middle;\n",
       "    }\n",
       "\n",
       "    .dataframe tbody tr th {\n",
       "        vertical-align: top;\n",
       "    }\n",
       "\n",
       "    .dataframe thead th {\n",
       "        text-align: right;\n",
       "    }\n",
       "</style>\n",
       "<table border=\"1\" class=\"dataframe\">\n",
       "  <thead>\n",
       "    <tr style=\"text-align: right;\">\n",
       "      <th></th>\n",
       "      <th>name</th>\n",
       "      <th>age</th>\n",
       "      <th>height</th>\n",
       "      <th>Wins</th>\n",
       "    </tr>\n",
       "  </thead>\n",
       "  <tbody>\n",
       "    <tr>\n",
       "      <th>0</th>\n",
       "      <td>Jeff</td>\n",
       "      <td>40</td>\n",
       "      <td>40</td>\n",
       "      <td>2</td>\n",
       "    </tr>\n",
       "    <tr>\n",
       "      <th>1</th>\n",
       "      <td>Dave</td>\n",
       "      <td>41</td>\n",
       "      <td>40</td>\n",
       "      <td>1</td>\n",
       "    </tr>\n",
       "  </tbody>\n",
       "</table>\n",
       "</div>"
      ],
      "text/plain": [
       "   name  age  height  Wins\n",
       "0  Jeff   40      40     2\n",
       "1  Dave   41      40     1"
      ]
     },
     "execution_count": 131,
     "metadata": {},
     "output_type": "execute_result"
    }
   ],
   "source": [
    "df[\"Wins\"] = np.sum(df.iloc[:,1:].eq(key[1:]), axis=1)\n",
    "df"
   ]
  },
  {
   "cell_type": "code",
   "execution_count": 103,
   "metadata": {},
   "outputs": [
    {
     "ename": "AttributeError",
     "evalue": "'numpy.ndarray' object has no attribute 'eq'",
     "output_type": "error",
     "traceback": [
      "\u001b[0;31m---------------------------------------------------------------------------\u001b[0m",
      "\u001b[0;31mAttributeError\u001b[0m                            Traceback (most recent call last)",
      "Cell \u001b[0;32mIn[103], line 1\u001b[0m\n\u001b[0;32m----> 1\u001b[0m [x\u001b[38;5;241m.\u001b[39meq(key) \u001b[38;5;28;01mfor\u001b[39;00m x \u001b[38;5;129;01min\u001b[39;00m df\u001b[38;5;241m.\u001b[39mvalues]\n",
      "\u001b[0;31mAttributeError\u001b[0m: 'numpy.ndarray' object has no attribute 'eq'"
     ]
    }
   ],
   "source": [
    "[x.eq(key) for x in df.values]"
   ]
  },
  {
   "cell_type": "code",
   "execution_count": 46,
   "metadata": {},
   "outputs": [],
   "source": [
    "df[\"sum\"] = np.sum(df.iloc[:,1:].eq(key), axis=1)"
   ]
  },
  {
   "cell_type": "code",
   "execution_count": 47,
   "metadata": {},
   "outputs": [
    {
     "data": {
      "text/html": [
       "<div>\n",
       "<style scoped>\n",
       "    .dataframe tbody tr th:only-of-type {\n",
       "        vertical-align: middle;\n",
       "    }\n",
       "\n",
       "    .dataframe tbody tr th {\n",
       "        vertical-align: top;\n",
       "    }\n",
       "\n",
       "    .dataframe thead th {\n",
       "        text-align: right;\n",
       "    }\n",
       "</style>\n",
       "<table border=\"1\" class=\"dataframe\">\n",
       "  <thead>\n",
       "    <tr style=\"text-align: right;\">\n",
       "      <th></th>\n",
       "      <th>name</th>\n",
       "      <th>age</th>\n",
       "      <th>height</th>\n",
       "      <th>sum</th>\n",
       "    </tr>\n",
       "  </thead>\n",
       "  <tbody>\n",
       "    <tr>\n",
       "      <th>0</th>\n",
       "      <td>Jeff</td>\n",
       "      <td>40</td>\n",
       "      <td>78</td>\n",
       "      <td>1</td>\n",
       "    </tr>\n",
       "    <tr>\n",
       "      <th>1</th>\n",
       "      <td>Stephen</td>\n",
       "      <td>41</td>\n",
       "      <td>40</td>\n",
       "      <td>0</td>\n",
       "    </tr>\n",
       "  </tbody>\n",
       "</table>\n",
       "</div>"
      ],
      "text/plain": [
       "      name  age  height  sum\n",
       "0     Jeff   40      78    1\n",
       "1  Stephen   41      40    0"
      ]
     },
     "execution_count": 47,
     "metadata": {},
     "output_type": "execute_result"
    }
   ],
   "source": [
    "df"
   ]
  },
  {
   "cell_type": "code",
   "execution_count": 137,
   "metadata": {},
   "outputs": [
    {
     "data": {
      "text/html": [
       "<div>\n",
       "<style scoped>\n",
       "    .dataframe tbody tr th:only-of-type {\n",
       "        vertical-align: middle;\n",
       "    }\n",
       "\n",
       "    .dataframe tbody tr th {\n",
       "        vertical-align: top;\n",
       "    }\n",
       "\n",
       "    .dataframe thead th {\n",
       "        text-align: right;\n",
       "    }\n",
       "</style>\n",
       "<table border=\"1\" class=\"dataframe\">\n",
       "  <thead>\n",
       "    <tr style=\"text-align: right;\">\n",
       "      <th></th>\n",
       "      <th>Name</th>\n",
       "      <th>CFP_First_Round1</th>\n",
       "      <th>CFP_First_Round2</th>\n",
       "      <th>CFP_First_Round3</th>\n",
       "      <th>CFP_First_Round4</th>\n",
       "      <th>Pop_Tarts_Bowl</th>\n",
       "      <th>Arizona_Bowl</th>\n",
       "      <th>Military_Bowl</th>\n",
       "      <th>Alamo_Bowl</th>\n",
       "      <th>Pinstripe_Bowl</th>\n",
       "      <th>Music_City_Bowl</th>\n",
       "      <th>Reliaquest_Bowl</th>\n",
       "      <th>Sun_Bowl</th>\n",
       "      <th>Citrus_Bowl</th>\n",
       "      <th>Texas_Bowl</th>\n",
       "      <th>Gator_Bowl</th>\n",
       "      <th>First_Responder_Bowl</th>\n",
       "      <th>Mayo_Bowl</th>\n",
       "      <th>Bahamas_Bowl</th>\n",
       "    </tr>\n",
       "  </thead>\n",
       "  <tbody>\n",
       "    <tr>\n",
       "      <th>0</th>\n",
       "      <td>Jeff</td>\n",
       "      <td>2. Notre Dame</td>\n",
       "      <td>4. Ohio State</td>\n",
       "      <td>6. Penn State</td>\n",
       "      <td>8. Texas</td>\n",
       "      <td>9. Miami</td>\n",
       "      <td>11. Miami (OH)</td>\n",
       "      <td>13. N.C. State</td>\n",
       "      <td>15. Colorado</td>\n",
       "      <td>17. Boston College</td>\n",
       "      <td>20. Iowa</td>\n",
       "      <td>22. Alabama</td>\n",
       "      <td>23. Louisville</td>\n",
       "      <td>26. Illinois</td>\n",
       "      <td>28. LSU</td>\n",
       "      <td>29. Duke</td>\n",
       "      <td>31. North Texas</td>\n",
       "      <td>34. Virginia Tech</td>\n",
       "      <td>36. Buffalo</td>\n",
       "    </tr>\n",
       "    <tr>\n",
       "      <th>1</th>\n",
       "      <td>Test</td>\n",
       "      <td>1. Indiana</td>\n",
       "      <td>3. Tennessee</td>\n",
       "      <td>5. SMU</td>\n",
       "      <td>7. Clemson</td>\n",
       "      <td>10. Iowa State</td>\n",
       "      <td>12. Colorado State</td>\n",
       "      <td>14. East Carolina</td>\n",
       "      <td>16. BYU</td>\n",
       "      <td>18. Nebraska</td>\n",
       "      <td>19. Missouri</td>\n",
       "      <td>21. Michigan</td>\n",
       "      <td>24. Washington</td>\n",
       "      <td>25. South Carolina</td>\n",
       "      <td>27. Baylor</td>\n",
       "      <td>30. Ole Miss</td>\n",
       "      <td>32. Texas State</td>\n",
       "      <td>33. Minnesota</td>\n",
       "      <td>35. Liberty</td>\n",
       "    </tr>\n",
       "    <tr>\n",
       "      <th>2</th>\n",
       "      <td>Test 2</td>\n",
       "      <td>1. Indiana</td>\n",
       "      <td>4. Ohio State</td>\n",
       "      <td>6. Penn State</td>\n",
       "      <td>8. Texas</td>\n",
       "      <td>10. Iowa State</td>\n",
       "      <td>11. Miami (OH)</td>\n",
       "      <td>13. N.C. State</td>\n",
       "      <td>15. Colorado</td>\n",
       "      <td>17. Boston College</td>\n",
       "      <td>19. Missouri</td>\n",
       "      <td>21. Michigan</td>\n",
       "      <td>23. Louisville</td>\n",
       "      <td>26. Illinois</td>\n",
       "      <td>28. LSU</td>\n",
       "      <td>29. Duke</td>\n",
       "      <td>31. North Texas</td>\n",
       "      <td>33. Minnesota</td>\n",
       "      <td>35. Liberty</td>\n",
       "    </tr>\n",
       "  </tbody>\n",
       "</table>\n",
       "</div>"
      ],
      "text/plain": [
       "     Name CFP_First_Round1 CFP_First_Round2 CFP_First_Round3 CFP_First_Round4  \\\n",
       "0    Jeff    2. Notre Dame    4. Ohio State    6. Penn State         8. Texas   \n",
       "1    Test       1. Indiana     3. Tennessee           5. SMU       7. Clemson   \n",
       "2  Test 2       1. Indiana    4. Ohio State    6. Penn State         8. Texas   \n",
       "\n",
       "   Pop_Tarts_Bowl        Arizona_Bowl      Military_Bowl     Alamo_Bowl  \\\n",
       "0        9. Miami      11. Miami (OH)     13. N.C. State  15. Colorado    \n",
       "1  10. Iowa State  12. Colorado State  14. East Carolina        16. BYU   \n",
       "2  10. Iowa State      11. Miami (OH)     13. N.C. State  15. Colorado    \n",
       "\n",
       "       Pinstripe_Bowl Music_City_Bowl Reliaquest_Bowl        Sun_Bowl  \\\n",
       "0  17. Boston College        20. Iowa     22. Alabama  23. Louisville   \n",
       "1        18. Nebraska    19. Missouri    21. Michigan  24. Washington   \n",
       "2  17. Boston College    19. Missouri    21. Michigan  23. Louisville   \n",
       "\n",
       "          Citrus_Bowl  Texas_Bowl    Gator_Bowl First_Responder_Bowl  \\\n",
       "0        26. Illinois     28. LSU      29. Duke      31. North Texas   \n",
       "1  25. South Carolina  27. Baylor  30. Ole Miss      32. Texas State   \n",
       "2        26. Illinois     28. LSU      29. Duke      31. North Texas   \n",
       "\n",
       "           Mayo_Bowl Bahamas_Bowl  \n",
       "0  34. Virginia Tech  36. Buffalo  \n",
       "1      33. Minnesota  35. Liberty  \n",
       "2      33. Minnesota  35. Liberty  "
      ]
     },
     "execution_count": 137,
     "metadata": {},
     "output_type": "execute_result"
    }
   ],
   "source": [
    "df = pd.read_csv(\"data.csv\")\n",
    "df"
   ]
  },
  {
   "cell_type": "code",
   "execution_count": 138,
   "metadata": {},
   "outputs": [],
   "source": [
    "key = pd.Series({\"CFP_First_Round1\":\"2. Notre Dame\"})"
   ]
  },
  {
   "cell_type": "code",
   "execution_count": 139,
   "metadata": {},
   "outputs": [
    {
     "data": {
      "text/html": [
       "<div>\n",
       "<style scoped>\n",
       "    .dataframe tbody tr th:only-of-type {\n",
       "        vertical-align: middle;\n",
       "    }\n",
       "\n",
       "    .dataframe tbody tr th {\n",
       "        vertical-align: top;\n",
       "    }\n",
       "\n",
       "    .dataframe thead th {\n",
       "        text-align: right;\n",
       "    }\n",
       "</style>\n",
       "<table border=\"1\" class=\"dataframe\">\n",
       "  <thead>\n",
       "    <tr style=\"text-align: right;\">\n",
       "      <th></th>\n",
       "      <th>Alamo_Bowl</th>\n",
       "      <th>Arizona_Bowl</th>\n",
       "      <th>Bahamas_Bowl</th>\n",
       "      <th>CFP_First_Round1</th>\n",
       "      <th>CFP_First_Round2</th>\n",
       "      <th>CFP_First_Round3</th>\n",
       "      <th>CFP_First_Round4</th>\n",
       "      <th>Citrus_Bowl</th>\n",
       "      <th>First_Responder_Bowl</th>\n",
       "      <th>Gator_Bowl</th>\n",
       "      <th>Mayo_Bowl</th>\n",
       "      <th>Military_Bowl</th>\n",
       "      <th>Music_City_Bowl</th>\n",
       "      <th>Name</th>\n",
       "      <th>Pinstripe_Bowl</th>\n",
       "      <th>Pop_Tarts_Bowl</th>\n",
       "      <th>Reliaquest_Bowl</th>\n",
       "      <th>Sun_Bowl</th>\n",
       "      <th>Texas_Bowl</th>\n",
       "    </tr>\n",
       "  </thead>\n",
       "  <tbody>\n",
       "    <tr>\n",
       "      <th>0</th>\n",
       "      <td>False</td>\n",
       "      <td>False</td>\n",
       "      <td>False</td>\n",
       "      <td>True</td>\n",
       "      <td>False</td>\n",
       "      <td>False</td>\n",
       "      <td>False</td>\n",
       "      <td>False</td>\n",
       "      <td>False</td>\n",
       "      <td>False</td>\n",
       "      <td>False</td>\n",
       "      <td>False</td>\n",
       "      <td>False</td>\n",
       "      <td>False</td>\n",
       "      <td>False</td>\n",
       "      <td>False</td>\n",
       "      <td>False</td>\n",
       "      <td>False</td>\n",
       "      <td>False</td>\n",
       "    </tr>\n",
       "    <tr>\n",
       "      <th>1</th>\n",
       "      <td>False</td>\n",
       "      <td>False</td>\n",
       "      <td>False</td>\n",
       "      <td>False</td>\n",
       "      <td>False</td>\n",
       "      <td>False</td>\n",
       "      <td>False</td>\n",
       "      <td>False</td>\n",
       "      <td>False</td>\n",
       "      <td>False</td>\n",
       "      <td>False</td>\n",
       "      <td>False</td>\n",
       "      <td>False</td>\n",
       "      <td>False</td>\n",
       "      <td>False</td>\n",
       "      <td>False</td>\n",
       "      <td>False</td>\n",
       "      <td>False</td>\n",
       "      <td>False</td>\n",
       "    </tr>\n",
       "    <tr>\n",
       "      <th>2</th>\n",
       "      <td>False</td>\n",
       "      <td>False</td>\n",
       "      <td>False</td>\n",
       "      <td>False</td>\n",
       "      <td>False</td>\n",
       "      <td>False</td>\n",
       "      <td>False</td>\n",
       "      <td>False</td>\n",
       "      <td>False</td>\n",
       "      <td>False</td>\n",
       "      <td>False</td>\n",
       "      <td>False</td>\n",
       "      <td>False</td>\n",
       "      <td>False</td>\n",
       "      <td>False</td>\n",
       "      <td>False</td>\n",
       "      <td>False</td>\n",
       "      <td>False</td>\n",
       "      <td>False</td>\n",
       "    </tr>\n",
       "  </tbody>\n",
       "</table>\n",
       "</div>"
      ],
      "text/plain": [
       "   Alamo_Bowl  Arizona_Bowl  Bahamas_Bowl  CFP_First_Round1  CFP_First_Round2  \\\n",
       "0       False         False         False              True             False   \n",
       "1       False         False         False             False             False   \n",
       "2       False         False         False             False             False   \n",
       "\n",
       "   CFP_First_Round3  CFP_First_Round4  Citrus_Bowl  First_Responder_Bowl  \\\n",
       "0             False             False        False                 False   \n",
       "1             False             False        False                 False   \n",
       "2             False             False        False                 False   \n",
       "\n",
       "   Gator_Bowl  Mayo_Bowl  Military_Bowl  Music_City_Bowl   Name  \\\n",
       "0       False      False          False            False  False   \n",
       "1       False      False          False            False  False   \n",
       "2       False      False          False            False  False   \n",
       "\n",
       "   Pinstripe_Bowl  Pop_Tarts_Bowl  Reliaquest_Bowl  Sun_Bowl  Texas_Bowl  \n",
       "0           False           False            False     False       False  \n",
       "1           False           False            False     False       False  \n",
       "2           False           False            False     False       False  "
      ]
     },
     "execution_count": 139,
     "metadata": {},
     "output_type": "execute_result"
    }
   ],
   "source": [
    "df.eq(key)"
   ]
  },
  {
   "cell_type": "code",
   "execution_count": null,
   "metadata": {},
   "outputs": [
    {
     "name": "stderr",
     "output_type": "stream",
     "text": [
      "2024-12-10 07:09:14.432 Thread 'MainThread': missing ScriptRunContext! This warning can be ignored when running in bare mode.\n",
      "2024-12-10 07:09:14.433 Thread 'MainThread': missing ScriptRunContext! This warning can be ignored when running in bare mode.\n",
      "2024-12-10 07:09:14.441 Thread 'MainThread': missing ScriptRunContext! This warning can be ignored when running in bare mode.\n",
      "2024-12-10 07:09:14.450 Thread 'MainThread': missing ScriptRunContext! This warning can be ignored when running in bare mode.\n"
     ]
    },
    {
     "data": {
      "text/plain": [
       "DeltaGenerator()"
      ]
     },
     "execution_count": 142,
     "metadata": {},
     "output_type": "execute_result"
    }
   ],
   "source": [
    "import streamlit as st\n",
    "import pandas as pd\n",
    "import numpy as np\n",
    "\n",
    "st.title(\"CFP\")\n",
    "\n",
    "df = pd.read_csv(\"data.csv\")\n",
    "\n",
    "key = pd.Series({\"CFP_First_Round1\": \"2. Notre Dame\"})\n",
    "\n",
    "df[\"Wins\"] = np.sum(df.eq(key), axis=1)\n",
    "df[\"Losses\"] = len(key) - df[\"Wins\"] \n",
    "df = df.sort_values(\"Wins\", ascending=False)\n",
    "\n",
    "st.dataframe(df[[\"Name\", \"Wins\", \"Losses\"]])"
   ]
  },
  {
   "cell_type": "code",
   "execution_count": null,
   "metadata": {},
   "outputs": [],
   "source": []
  }
 ],
 "metadata": {
  "kernelspec": {
   "display_name": "jeff-env",
   "language": "python",
   "name": "python3"
  },
  "language_info": {
   "codemirror_mode": {
    "name": "ipython",
    "version": 3
   },
   "file_extension": ".py",
   "mimetype": "text/x-python",
   "name": "python",
   "nbconvert_exporter": "python",
   "pygments_lexer": "ipython3",
   "version": "3.12.2"
  }
 },
 "nbformat": 4,
 "nbformat_minor": 2
}
